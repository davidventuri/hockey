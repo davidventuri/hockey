{
 "cells": [
  {
   "cell_type": "code",
   "execution_count": 353,
   "metadata": {
    "collapsed": false
   },
   "outputs": [],
   "source": [
    "import pandas as pd\n",
    "pd.set_option('precision',7)\n",
    "\n",
    "def print_full(x):\n",
    "    pd.set_option('display.max_rows', len(x))\n",
    "    print(x)\n",
    "    pd.reset_option('display.max_rows')"
   ]
  },
  {
   "cell_type": "markdown",
   "metadata": {},
   "source": [
    "# GATHERING & CLEANING PLAYER STATS"
   ]
  },
  {
   "cell_type": "code",
   "execution_count": 354,
   "metadata": {
    "collapsed": false
   },
   "outputs": [],
   "source": [
    "def slim_table(filename, season, player_type):\n",
    "    full = pd.read_excel(filename)\n",
    "    \n",
    "    # Adjusting all player type tables\n",
    "    full['Full Name'] = full['First Name'] + \" \" + full['Last Name']\n",
    "    if filename != 'excel_files/NHL Data 1967-2014.xls':\n",
    "        full['Season'] = season\n",
    "    \n",
    "    # Adjusting goalie tables\n",
    "    if player_type == \"goalie\":\n",
    "        full.rename(columns={'MIN': 'TOI', \"GPS\" : \"PS\"}, inplace=True)\n",
    "        \n",
    "        if filename == 'excel_files/NHL Goalies 2014-15.xls':\n",
    "            full.rename(columns={'All Tm': 'Team'}, inplace=True)\n",
    "            \n",
    "        if filename == \"excel_files/NHL Goalies 2015-16.xls\":\n",
    "            full.rename(columns={'TOI': 'TOI (seconds)'}, inplace=True)\n",
    "            full['TOI'] = full['TOI (seconds)'] / 60\n",
    "    \n",
    "    # Adjusting skater tables\n",
    "    elif player_type == \"skater\" and filename != 'excel_files/NHL Data 1967-2014.xls':\n",
    "        full.rename(columns={'Teams': 'Team'}, inplace=True)\n",
    "        \n",
    "        if filename == \"excel_files/NHL 2015-16.xls\":\n",
    "            full.rename(columns={'TOI': 'TOI (seconds)'}, inplace=True)\n",
    "            full['TOI'] = full['TOI (seconds)'] / 60\n",
    "    \n",
    "    # Calculate catch-all statistics\n",
    "    full['PS/60'] = full['PS'] / full['TOI'] * 60\n",
    "#     full['GVT/60'] = full['GVT'] / full['TOI'] * 60\n",
    "    \n",
    "    # Select important columns\n",
    "    slim = full[['Full Name', 'Season', 'Team', 'TOI', 'PS', 'PS/60']]\n",
    "    \n",
    "    return slim"
   ]
  },
  {
   "cell_type": "code",
   "execution_count": 355,
   "metadata": {
    "collapsed": true
   },
   "outputs": [],
   "source": [
    "master = slim_table('excel_files/NHL Data 1967-2014.xls', 'multiple', 'skater')"
   ]
  },
  {
   "cell_type": "code",
   "execution_count": 356,
   "metadata": {
    "collapsed": false
   },
   "outputs": [
    {
     "data": {
      "text/html": [
       "<div>\n",
       "<table border=\"1\" class=\"dataframe\">\n",
       "  <thead>\n",
       "    <tr style=\"text-align: right;\">\n",
       "      <th></th>\n",
       "      <th>Full Name</th>\n",
       "      <th>Season</th>\n",
       "      <th>Team</th>\n",
       "      <th>TOI</th>\n",
       "      <th>PS</th>\n",
       "      <th>PS/60</th>\n",
       "    </tr>\n",
       "  </thead>\n",
       "  <tbody>\n",
       "    <tr>\n",
       "      <th>19823</th>\n",
       "      <td>Craig Adams</td>\n",
       "      <td>2001-02</td>\n",
       "      <td>CAR</td>\n",
       "      <td>195</td>\n",
       "      <td>-0.1</td>\n",
       "      <td>-0.0307692</td>\n",
       "    </tr>\n",
       "    <tr>\n",
       "      <th>19824</th>\n",
       "      <td>Kevyn Adams</td>\n",
       "      <td>2001-02</td>\n",
       "      <td>TOT</td>\n",
       "      <td>887</td>\n",
       "      <td>0.8</td>\n",
       "      <td>0.0541150</td>\n",
       "    </tr>\n",
       "    <tr>\n",
       "      <th>19825</th>\n",
       "      <td>Dmitry Afanasenkov</td>\n",
       "      <td>2001-02</td>\n",
       "      <td>TBL</td>\n",
       "      <td>25</td>\n",
       "      <td>-0.1</td>\n",
       "      <td>-0.2400000</td>\n",
       "    </tr>\n",
       "    <tr>\n",
       "      <th>19826</th>\n",
       "      <td>Maxim Afinogenov</td>\n",
       "      <td>2001-02</td>\n",
       "      <td>BUF</td>\n",
       "      <td>1245</td>\n",
       "      <td>4.4</td>\n",
       "      <td>0.2120482</td>\n",
       "    </tr>\n",
       "    <tr>\n",
       "      <th>19827</th>\n",
       "      <td>Tommy Albelin</td>\n",
       "      <td>2001-02</td>\n",
       "      <td>NJD</td>\n",
       "      <td>560</td>\n",
       "      <td>1.3</td>\n",
       "      <td>0.1392857</td>\n",
       "    </tr>\n",
       "  </tbody>\n",
       "</table>\n",
       "</div>"
      ],
      "text/plain": [
       "                Full Name   Season Team   TOI   PS      PS/60\n",
       "19823         Craig Adams  2001-02  CAR   195 -0.1 -0.0307692\n",
       "19824         Kevyn Adams  2001-02  TOT   887  0.8  0.0541150\n",
       "19825  Dmitry Afanasenkov  2001-02  TBL    25 -0.1 -0.2400000\n",
       "19826    Maxim Afinogenov  2001-02  BUF  1245  4.4  0.2120482\n",
       "19827       Tommy Albelin  2001-02  NJD   560  1.3  0.1392857"
      ]
     },
     "execution_count": 356,
     "metadata": {},
     "output_type": "execute_result"
    }
   ],
   "source": [
    "# Since 2001\n",
    "master = master.loc[master['Season'] > '2001']\n",
    "master.head()"
   ]
  },
  {
   "cell_type": "code",
   "execution_count": 357,
   "metadata": {
    "collapsed": false
   },
   "outputs": [
    {
     "data": {
      "text/html": [
       "<div>\n",
       "<table border=\"1\" class=\"dataframe\">\n",
       "  <thead>\n",
       "    <tr style=\"text-align: right;\">\n",
       "      <th></th>\n",
       "      <th>Full Name</th>\n",
       "      <th>Season</th>\n",
       "      <th>Team</th>\n",
       "      <th>TOI</th>\n",
       "      <th>PS</th>\n",
       "      <th>PS/60</th>\n",
       "    </tr>\n",
       "  </thead>\n",
       "  <tbody>\n",
       "    <tr>\n",
       "      <th>0</th>\n",
       "      <td>Justin Abdelkader</td>\n",
       "      <td>2014-15</td>\n",
       "      <td>DET</td>\n",
       "      <td>1271.6000000</td>\n",
       "      <td>5.6</td>\n",
       "      <td>0.2642340</td>\n",
       "    </tr>\n",
       "    <tr>\n",
       "      <th>1</th>\n",
       "      <td>Will Acton</td>\n",
       "      <td>2014-15</td>\n",
       "      <td>EDM</td>\n",
       "      <td>32.1333333</td>\n",
       "      <td>-0.1</td>\n",
       "      <td>-0.1867220</td>\n",
       "    </tr>\n",
       "    <tr>\n",
       "      <th>2</th>\n",
       "      <td>Luke Adam</td>\n",
       "      <td>2014-15</td>\n",
       "      <td>CBJ</td>\n",
       "      <td>19.3333333</td>\n",
       "      <td>0.0</td>\n",
       "      <td>0.0000000</td>\n",
       "    </tr>\n",
       "    <tr>\n",
       "      <th>3</th>\n",
       "      <td>Craig Adams</td>\n",
       "      <td>2014-15</td>\n",
       "      <td>PIT</td>\n",
       "      <td>682.1833333</td>\n",
       "      <td>-0.3</td>\n",
       "      <td>-0.0263859</td>\n",
       "    </tr>\n",
       "    <tr>\n",
       "      <th>4</th>\n",
       "      <td>Andrew Agozzino</td>\n",
       "      <td>2014-15</td>\n",
       "      <td>COL</td>\n",
       "      <td>9.7500000</td>\n",
       "      <td>0.1</td>\n",
       "      <td>0.6153846</td>\n",
       "    </tr>\n",
       "  </tbody>\n",
       "</table>\n",
       "</div>"
      ],
      "text/plain": [
       "           Full Name   Season Team           TOI   PS      PS/60\n",
       "0  Justin Abdelkader  2014-15  DET  1271.6000000  5.6  0.2642340\n",
       "1         Will Acton  2014-15  EDM    32.1333333 -0.1 -0.1867220\n",
       "2          Luke Adam  2014-15  CBJ    19.3333333  0.0  0.0000000\n",
       "3        Craig Adams  2014-15  PIT   682.1833333 -0.3 -0.0263859\n",
       "4    Andrew Agozzino  2014-15  COL     9.7500000  0.1  0.6153846"
      ]
     },
     "execution_count": 357,
     "metadata": {},
     "output_type": "execute_result"
    }
   ],
   "source": [
    "skaters_1415 = slim_table('excel_files/NHL 2014-15.xls', '2014-15', 'skater')\n",
    "skaters_1415.head()\n",
    "# print_full(skaters_1415)"
   ]
  },
  {
   "cell_type": "code",
   "execution_count": 358,
   "metadata": {
    "collapsed": false
   },
   "outputs": [
    {
     "data": {
      "text/html": [
       "<div>\n",
       "<table border=\"1\" class=\"dataframe\">\n",
       "  <thead>\n",
       "    <tr style=\"text-align: right;\">\n",
       "      <th></th>\n",
       "      <th>Full Name</th>\n",
       "      <th>Season</th>\n",
       "      <th>Team</th>\n",
       "      <th>TOI</th>\n",
       "      <th>PS</th>\n",
       "      <th>PS/60</th>\n",
       "    </tr>\n",
       "  </thead>\n",
       "  <tbody>\n",
       "    <tr>\n",
       "      <th>0</th>\n",
       "      <td>Justin Abdelkader</td>\n",
       "      <td>2015-16</td>\n",
       "      <td>DET</td>\n",
       "      <td>1511.7166667</td>\n",
       "      <td>3.8</td>\n",
       "      <td>0.1508219</td>\n",
       "    </tr>\n",
       "    <tr>\n",
       "      <th>1</th>\n",
       "      <td>Noel Acciari</td>\n",
       "      <td>2015-16</td>\n",
       "      <td>BOS</td>\n",
       "      <td>187.9500000</td>\n",
       "      <td>-0.4</td>\n",
       "      <td>-0.1276935</td>\n",
       "    </tr>\n",
       "    <tr>\n",
       "      <th>2</th>\n",
       "      <td>Kenny Agostino</td>\n",
       "      <td>2015-16</td>\n",
       "      <td>CGY</td>\n",
       "      <td>27.1000000</td>\n",
       "      <td>-0.1</td>\n",
       "      <td>-0.2214022</td>\n",
       "    </tr>\n",
       "    <tr>\n",
       "      <th>3</th>\n",
       "      <td>Andrew Agozzino</td>\n",
       "      <td>2015-16</td>\n",
       "      <td>COL</td>\n",
       "      <td>77.0500000</td>\n",
       "      <td>0.1</td>\n",
       "      <td>0.0778715</td>\n",
       "    </tr>\n",
       "    <tr>\n",
       "      <th>4</th>\n",
       "      <td>Karl Alzner</td>\n",
       "      <td>2015-16</td>\n",
       "      <td>WSH</td>\n",
       "      <td>1752.7500000</td>\n",
       "      <td>5.4</td>\n",
       "      <td>0.1848524</td>\n",
       "    </tr>\n",
       "  </tbody>\n",
       "</table>\n",
       "</div>"
      ],
      "text/plain": [
       "           Full Name   Season Team           TOI   PS      PS/60\n",
       "0  Justin Abdelkader  2015-16  DET  1511.7166667  3.8  0.1508219\n",
       "1       Noel Acciari  2015-16  BOS   187.9500000 -0.4 -0.1276935\n",
       "2     Kenny Agostino  2015-16  CGY    27.1000000 -0.1 -0.2214022\n",
       "3    Andrew Agozzino  2015-16  COL    77.0500000  0.1  0.0778715\n",
       "4        Karl Alzner  2015-16  WSH  1752.7500000  5.4  0.1848524"
      ]
     },
     "execution_count": 358,
     "metadata": {},
     "output_type": "execute_result"
    }
   ],
   "source": [
    "skaters_1516 = slim_table('excel_files/NHL 2015-16.xls', '2015-16', 'skater')\n",
    "skaters_1516.head()\n",
    "# print_full(skaters_1516)"
   ]
  },
  {
   "cell_type": "code",
   "execution_count": 359,
   "metadata": {
    "collapsed": false
   },
   "outputs": [
    {
     "data": {
      "text/html": [
       "<div>\n",
       "<table border=\"1\" class=\"dataframe\">\n",
       "  <thead>\n",
       "    <tr style=\"text-align: right;\">\n",
       "      <th></th>\n",
       "      <th>Full Name</th>\n",
       "      <th>Season</th>\n",
       "      <th>Team</th>\n",
       "      <th>TOI</th>\n",
       "      <th>PS</th>\n",
       "      <th>PS/60</th>\n",
       "    </tr>\n",
       "  </thead>\n",
       "  <tbody>\n",
       "    <tr>\n",
       "      <th>0</th>\n",
       "      <td>Craig Anderson</td>\n",
       "      <td>2011-12</td>\n",
       "      <td>OTT</td>\n",
       "      <td>3492.3</td>\n",
       "      <td>11.7</td>\n",
       "      <td>0.2010137</td>\n",
       "    </tr>\n",
       "    <tr>\n",
       "      <th>1</th>\n",
       "      <td>Alex Auld</td>\n",
       "      <td>2011-12</td>\n",
       "      <td>OTT</td>\n",
       "      <td>645.0</td>\n",
       "      <td>0.8</td>\n",
       "      <td>0.0744186</td>\n",
       "    </tr>\n",
       "    <tr>\n",
       "      <th>2</th>\n",
       "      <td>Richard Bachman</td>\n",
       "      <td>2011-12</td>\n",
       "      <td>DAL</td>\n",
       "      <td>933.1</td>\n",
       "      <td>2.7</td>\n",
       "      <td>0.1736148</td>\n",
       "    </tr>\n",
       "    <tr>\n",
       "      <th>3</th>\n",
       "      <td>Niklas Backstrom</td>\n",
       "      <td>2011-12</td>\n",
       "      <td>MIN</td>\n",
       "      <td>2589.7</td>\n",
       "      <td>8.8</td>\n",
       "      <td>0.2038846</td>\n",
       "    </tr>\n",
       "    <tr>\n",
       "      <th>4</th>\n",
       "      <td>Jonathan Bernier</td>\n",
       "      <td>2011-12</td>\n",
       "      <td>LAK</td>\n",
       "      <td>890.2</td>\n",
       "      <td>2.1</td>\n",
       "      <td>0.1415412</td>\n",
       "    </tr>\n",
       "  </tbody>\n",
       "</table>\n",
       "</div>"
      ],
      "text/plain": [
       "          Full Name   Season Team     TOI    PS      PS/60\n",
       "0    Craig Anderson  2011-12  OTT  3492.3  11.7  0.2010137\n",
       "1         Alex Auld  2011-12  OTT   645.0   0.8  0.0744186\n",
       "2   Richard Bachman  2011-12  DAL   933.1   2.7  0.1736148\n",
       "3  Niklas Backstrom  2011-12  MIN  2589.7   8.8  0.2038846\n",
       "4  Jonathan Bernier  2011-12  LAK   890.2   2.1  0.1415412"
      ]
     },
     "execution_count": 359,
     "metadata": {},
     "output_type": "execute_result"
    }
   ],
   "source": [
    "goalies_1112 = slim_table('excel_files/NHL Goalies 2011-12.xls', '2011-12', 'goalie')\n",
    "goalies_1112.head()\n",
    "# print_full(goalies_1112)"
   ]
  },
  {
   "cell_type": "code",
   "execution_count": 360,
   "metadata": {
    "collapsed": false
   },
   "outputs": [
    {
     "data": {
      "text/html": [
       "<div>\n",
       "<table border=\"1\" class=\"dataframe\">\n",
       "  <thead>\n",
       "    <tr style=\"text-align: right;\">\n",
       "      <th></th>\n",
       "      <th>Full Name</th>\n",
       "      <th>Season</th>\n",
       "      <th>Team</th>\n",
       "      <th>TOI</th>\n",
       "      <th>PS</th>\n",
       "      <th>PS/60</th>\n",
       "    </tr>\n",
       "  </thead>\n",
       "  <tbody>\n",
       "    <tr>\n",
       "      <th>0</th>\n",
       "      <td>Sami Aittokallio</td>\n",
       "      <td>2012-13</td>\n",
       "      <td>COL</td>\n",
       "      <td>49.3333333</td>\n",
       "      <td>0.2</td>\n",
       "      <td>0.2432432</td>\n",
       "    </tr>\n",
       "    <tr>\n",
       "      <th>1</th>\n",
       "      <td>Jake Allen</td>\n",
       "      <td>2012-13</td>\n",
       "      <td>STL</td>\n",
       "      <td>803.8833333</td>\n",
       "      <td>1.8</td>\n",
       "      <td>0.1343479</td>\n",
       "    </tr>\n",
       "    <tr>\n",
       "      <th>2</th>\n",
       "      <td>Craig Anderson</td>\n",
       "      <td>2012-13</td>\n",
       "      <td>OTT</td>\n",
       "      <td>1420.6000000</td>\n",
       "      <td>6.5</td>\n",
       "      <td>0.2745319</td>\n",
       "    </tr>\n",
       "    <tr>\n",
       "      <th>3</th>\n",
       "      <td>Richard Bachman</td>\n",
       "      <td>2012-13</td>\n",
       "      <td>DAL</td>\n",
       "      <td>608.8333333</td>\n",
       "      <td>0.9</td>\n",
       "      <td>0.0886942</td>\n",
       "    </tr>\n",
       "    <tr>\n",
       "      <th>4</th>\n",
       "      <td>Niklas Backstrom</td>\n",
       "      <td>2012-13</td>\n",
       "      <td>MIN</td>\n",
       "      <td>2368.1333333</td>\n",
       "      <td>6.2</td>\n",
       "      <td>0.1570857</td>\n",
       "    </tr>\n",
       "  </tbody>\n",
       "</table>\n",
       "</div>"
      ],
      "text/plain": [
       "          Full Name   Season Team           TOI   PS      PS/60\n",
       "0  Sami Aittokallio  2012-13  COL    49.3333333  0.2  0.2432432\n",
       "1        Jake Allen  2012-13  STL   803.8833333  1.8  0.1343479\n",
       "2    Craig Anderson  2012-13  OTT  1420.6000000  6.5  0.2745319\n",
       "3   Richard Bachman  2012-13  DAL   608.8333333  0.9  0.0886942\n",
       "4  Niklas Backstrom  2012-13  MIN  2368.1333333  6.2  0.1570857"
      ]
     },
     "execution_count": 360,
     "metadata": {},
     "output_type": "execute_result"
    }
   ],
   "source": [
    "goalies_1213 = slim_table('excel_files/NHL Goalies 2012-13.xls', '2012-13', 'goalie')\n",
    "goalies_1213.head()\n",
    "# print_full(goalies_1213)"
   ]
  },
  {
   "cell_type": "code",
   "execution_count": 361,
   "metadata": {
    "collapsed": false
   },
   "outputs": [
    {
     "data": {
      "text/html": [
       "<div>\n",
       "<table border=\"1\" class=\"dataframe\">\n",
       "  <thead>\n",
       "    <tr style=\"text-align: right;\">\n",
       "      <th></th>\n",
       "      <th>Full Name</th>\n",
       "      <th>Season</th>\n",
       "      <th>Team</th>\n",
       "      <th>TOI</th>\n",
       "      <th>PS</th>\n",
       "      <th>PS/60</th>\n",
       "    </tr>\n",
       "  </thead>\n",
       "  <tbody>\n",
       "    <tr>\n",
       "      <th>0</th>\n",
       "      <td>Sami Aittokallio</td>\n",
       "      <td>2013-14</td>\n",
       "      <td>COL</td>\n",
       "      <td>40</td>\n",
       "      <td>-0.1</td>\n",
       "      <td>-0.1500000</td>\n",
       "    </tr>\n",
       "    <tr>\n",
       "      <th>1</th>\n",
       "      <td>Frederik Andersen</td>\n",
       "      <td>2013-14</td>\n",
       "      <td>ANA</td>\n",
       "      <td>1569</td>\n",
       "      <td>5.6</td>\n",
       "      <td>0.2141491</td>\n",
       "    </tr>\n",
       "    <tr>\n",
       "      <th>2</th>\n",
       "      <td>Craig Anderson</td>\n",
       "      <td>2013-14</td>\n",
       "      <td>OTT</td>\n",
       "      <td>3000</td>\n",
       "      <td>9.5</td>\n",
       "      <td>0.1900000</td>\n",
       "    </tr>\n",
       "    <tr>\n",
       "      <th>3</th>\n",
       "      <td>Richard Bachman</td>\n",
       "      <td>2013-14</td>\n",
       "      <td>EDM</td>\n",
       "      <td>139</td>\n",
       "      <td>0.5</td>\n",
       "      <td>0.2158273</td>\n",
       "    </tr>\n",
       "    <tr>\n",
       "      <th>4</th>\n",
       "      <td>Niklas Backstrom</td>\n",
       "      <td>2013-14</td>\n",
       "      <td>MIN</td>\n",
       "      <td>1094</td>\n",
       "      <td>2.3</td>\n",
       "      <td>0.1261426</td>\n",
       "    </tr>\n",
       "  </tbody>\n",
       "</table>\n",
       "</div>"
      ],
      "text/plain": [
       "           Full Name   Season Team   TOI   PS      PS/60\n",
       "0   Sami Aittokallio  2013-14  COL    40 -0.1 -0.1500000\n",
       "1  Frederik Andersen  2013-14  ANA  1569  5.6  0.2141491\n",
       "2     Craig Anderson  2013-14  OTT  3000  9.5  0.1900000\n",
       "3    Richard Bachman  2013-14  EDM   139  0.5  0.2158273\n",
       "4   Niklas Backstrom  2013-14  MIN  1094  2.3  0.1261426"
      ]
     },
     "execution_count": 361,
     "metadata": {},
     "output_type": "execute_result"
    }
   ],
   "source": [
    "goalies_1314 = slim_table('excel_files/NHL Goalies 2013-14.xls', '2013-14', 'goalie')\n",
    "goalies_1314.head()\n",
    "# print_full(goalies_1314)"
   ]
  },
  {
   "cell_type": "code",
   "execution_count": 362,
   "metadata": {
    "collapsed": false
   },
   "outputs": [
    {
     "data": {
      "text/html": [
       "<div>\n",
       "<table border=\"1\" class=\"dataframe\">\n",
       "  <thead>\n",
       "    <tr style=\"text-align: right;\">\n",
       "      <th></th>\n",
       "      <th>Full Name</th>\n",
       "      <th>Season</th>\n",
       "      <th>Team</th>\n",
       "      <th>TOI</th>\n",
       "      <th>PS</th>\n",
       "      <th>PS/60</th>\n",
       "    </tr>\n",
       "  </thead>\n",
       "  <tbody>\n",
       "    <tr>\n",
       "      <th>0</th>\n",
       "      <td>Jake Allen</td>\n",
       "      <td>2014-15</td>\n",
       "      <td>STL</td>\n",
       "      <td>2077.0333333</td>\n",
       "      <td>5.3</td>\n",
       "      <td>0.1531030</td>\n",
       "    </tr>\n",
       "    <tr>\n",
       "      <th>1</th>\n",
       "      <td>Frederik Andersen</td>\n",
       "      <td>2014-15</td>\n",
       "      <td>ANA</td>\n",
       "      <td>3105.7166667</td>\n",
       "      <td>8.6</td>\n",
       "      <td>0.1661452</td>\n",
       "    </tr>\n",
       "    <tr>\n",
       "      <th>2</th>\n",
       "      <td>Craig Anderson</td>\n",
       "      <td>2014-15</td>\n",
       "      <td>OTT</td>\n",
       "      <td>2092.5166667</td>\n",
       "      <td>8.0</td>\n",
       "      <td>0.2293889</td>\n",
       "    </tr>\n",
       "    <tr>\n",
       "      <th>3</th>\n",
       "      <td>Richard Bachman</td>\n",
       "      <td>2014-15</td>\n",
       "      <td>EDM</td>\n",
       "      <td>316.7166667</td>\n",
       "      <td>0.9</td>\n",
       "      <td>0.1704994</td>\n",
       "    </tr>\n",
       "    <tr>\n",
       "      <th>4</th>\n",
       "      <td>Niklas Backstrom</td>\n",
       "      <td>2014-15</td>\n",
       "      <td>MIN</td>\n",
       "      <td>1004.8833333</td>\n",
       "      <td>1.2</td>\n",
       "      <td>0.0716501</td>\n",
       "    </tr>\n",
       "  </tbody>\n",
       "</table>\n",
       "</div>"
      ],
      "text/plain": [
       "           Full Name   Season Team           TOI   PS      PS/60\n",
       "0         Jake Allen  2014-15  STL  2077.0333333  5.3  0.1531030\n",
       "1  Frederik Andersen  2014-15  ANA  3105.7166667  8.6  0.1661452\n",
       "2     Craig Anderson  2014-15  OTT  2092.5166667  8.0  0.2293889\n",
       "3    Richard Bachman  2014-15  EDM   316.7166667  0.9  0.1704994\n",
       "4   Niklas Backstrom  2014-15  MIN  1004.8833333  1.2  0.0716501"
      ]
     },
     "execution_count": 362,
     "metadata": {},
     "output_type": "execute_result"
    }
   ],
   "source": [
    "goalies_1415 = slim_table('excel_files/NHL Goalies 2014-15.xls', '2014-15', 'goalie')\n",
    "goalies_1415.head()\n",
    "# print_full(goalies_1415)"
   ]
  },
  {
   "cell_type": "code",
   "execution_count": 363,
   "metadata": {
    "collapsed": false,
    "scrolled": true
   },
   "outputs": [
    {
     "data": {
      "text/html": [
       "<div>\n",
       "<table border=\"1\" class=\"dataframe\">\n",
       "  <thead>\n",
       "    <tr style=\"text-align: right;\">\n",
       "      <th></th>\n",
       "      <th>Full Name</th>\n",
       "      <th>Season</th>\n",
       "      <th>Team</th>\n",
       "      <th>TOI</th>\n",
       "      <th>PS</th>\n",
       "      <th>PS/60</th>\n",
       "    </tr>\n",
       "  </thead>\n",
       "  <tbody>\n",
       "    <tr>\n",
       "      <th>0</th>\n",
       "      <td>Jake Allen</td>\n",
       "      <td>2015-16</td>\n",
       "      <td>STL</td>\n",
       "      <td>2583.3666667</td>\n",
       "      <td>8.2</td>\n",
       "      <td>0.1904492</td>\n",
       "    </tr>\n",
       "    <tr>\n",
       "      <th>1</th>\n",
       "      <td>Frederik Andersen</td>\n",
       "      <td>2015-16</td>\n",
       "      <td>ANA</td>\n",
       "      <td>2297.9333333</td>\n",
       "      <td>7.0</td>\n",
       "      <td>0.1827729</td>\n",
       "    </tr>\n",
       "    <tr>\n",
       "      <th>2</th>\n",
       "      <td>Craig Anderson</td>\n",
       "      <td>2015-16</td>\n",
       "      <td>OTT</td>\n",
       "      <td>3477.1333333</td>\n",
       "      <td>11.6</td>\n",
       "      <td>0.2001649</td>\n",
       "    </tr>\n",
       "    <tr>\n",
       "      <th>3</th>\n",
       "      <td>Richard Bachman</td>\n",
       "      <td>2015-16</td>\n",
       "      <td>VAN</td>\n",
       "      <td>59.8666667</td>\n",
       "      <td>0.1</td>\n",
       "      <td>0.1002227</td>\n",
       "    </tr>\n",
       "    <tr>\n",
       "      <th>4</th>\n",
       "      <td>Niklas Backstrom</td>\n",
       "      <td>2015-16</td>\n",
       "      <td>CGY</td>\n",
       "      <td>232.7166667</td>\n",
       "      <td>0.2</td>\n",
       "      <td>0.0515648</td>\n",
       "    </tr>\n",
       "  </tbody>\n",
       "</table>\n",
       "</div>"
      ],
      "text/plain": [
       "           Full Name   Season Team           TOI    PS      PS/60\n",
       "0         Jake Allen  2015-16  STL  2583.3666667   8.2  0.1904492\n",
       "1  Frederik Andersen  2015-16  ANA  2297.9333333   7.0  0.1827729\n",
       "2     Craig Anderson  2015-16  OTT  3477.1333333  11.6  0.2001649\n",
       "3    Richard Bachman  2015-16  VAN    59.8666667   0.1  0.1002227\n",
       "4   Niklas Backstrom  2015-16  CGY   232.7166667   0.2  0.0515648"
      ]
     },
     "execution_count": 363,
     "metadata": {},
     "output_type": "execute_result"
    }
   ],
   "source": [
    "goalies_1516 = slim_table('excel_files/NHL Goalies 2015-16.xls', '2015-16', 'goalie')\n",
    "goalies_1516.head()\n",
    "# print_full(goalies_1516)"
   ]
  },
  {
   "cell_type": "code",
   "execution_count": 364,
   "metadata": {
    "collapsed": false
   },
   "outputs": [],
   "source": [
    "# Append skaters data from 14-15 to 15-16 to master table\n",
    "master = master.append([skaters_1415, skaters_1516])\n",
    "\n",
    "# Append goalies data from 11-12 to 15-16 to master table\n",
    "master = master.append([goalies_1112, goalies_1213, goalies_1314, goalies_1415, goalies_1516])"
   ]
  },
  {
   "cell_type": "code",
   "execution_count": 365,
   "metadata": {
    "collapsed": false
   },
   "outputs": [],
   "source": [
    "# Clean duplicate name issues\n",
    "name_mapping = {\n",
    "                 'TJ Brennan': 'T.J. Brennan',\n",
    "                 'TJ Brodie': 'T.J. Brodie',\n",
    "                 'Mike Cammalleri': 'Michael Cammalleri',\n",
    "                 'Matthew Carle': 'Matt Carle',\n",
    "                 'Mathew Dumba': 'Matt Dumba',\n",
    "                 'Michael Ferland': 'Micheal Ferland',\n",
    "                 'TJ Galiardi': 'T.J. Galiardi',\n",
    "                 'Mike Kostka': 'Michael Kostka',\n",
    "                 'Nikolai Kulemin': 'Nikolay Kulemin',\n",
    "                 'Jonathon Merrill': 'Jon Merrill',\n",
    "                 'Dave Moss': 'David Moss',\n",
    "                 'Matthew Nieto': 'Matt Nieto',\n",
    "                 'Pierre-Alexandre Parenteau': 'P.A. Parenteau',\n",
    "                 'Alex Steen': 'Alexander Steen',\n",
    "                 'Maxime Talbot': 'Max Talbot',\n",
    "                 'Chris Tanev': 'Christopher Tanev'\n",
    "               }\n",
    "\n",
    "\n",
    "for i, row in master.iterrows():\n",
    "    for bad_name in name_mapping:\n",
    "        if row['Full Name'] == bad_name:\n",
    "            master.set_value(i, 'Full Name', name_mapping[bad_name])"
   ]
  },
  {
   "cell_type": "code",
   "execution_count": 366,
   "metadata": {
    "collapsed": false
   },
   "outputs": [],
   "source": [
    "# Sort data by season then full name\n",
    "master = master.sort_values(['Season', 'Full Name'])"
   ]
  },
  {
   "cell_type": "code",
   "execution_count": 367,
   "metadata": {
    "collapsed": false
   },
   "outputs": [],
   "source": [
    "totals = master.groupby(['Full Name'])[['TOI', 'PS']].sum()"
   ]
  },
  {
   "cell_type": "code",
   "execution_count": 368,
   "metadata": {
    "collapsed": false
   },
   "outputs": [],
   "source": [
    "totals['PS/60'] = totals['PS'] / totals['TOI'] * 60\n",
    "# totals['GVT/60'] = totals['GVT'] / totals['TOI'] * 60\n",
    " \n",
    "# Minimum 100 minutes TOI\n",
    "totals = totals.loc[totals['TOI'] > 100]\n",
    "totals = totals.sort_values('PS/60', ascending=False)"
   ]
  },
  {
   "cell_type": "code",
   "execution_count": 369,
   "metadata": {
    "collapsed": false
   },
   "outputs": [],
   "source": [
    "# Save gathered & cleaned player statistics in Excel file\n",
    "writer = pd.ExcelWriter('pandas_simple.xlsx', engine='xlsxwriter')\n",
    "\n",
    "# Convert the dataframe to an XlsxWriter Excel object.\n",
    "totals.to_excel(writer, sheet_name='Sheet1')\n",
    "\n",
    "# Close the Pandas Excel writer and output the Excel file.\n",
    "writer.save()"
   ]
  },
  {
   "cell_type": "markdown",
   "metadata": {
    "collapsed": true
   },
   "source": [
    "# GATHERING & CLEANING DRAFT RANKINGS"
   ]
  },
  {
   "cell_type": "code",
   "execution_count": 370,
   "metadata": {
    "collapsed": false
   },
   "outputs": [],
   "source": [
    "# Strip hockey ref slashes to get NHL draft order for each year\n",
    "def nhl_draft_order(messy_filename, full_draft_filename, rd_1_filename):\n",
    "    order = pd.read_csv('nhl/' + messy_filename)\n",
    "    order = order[[order.columns[0], order.columns[2]]]\n",
    "    order.columns = ['Source Rank', 'Full Name']\n",
    "    order['Full Name'] = order['Full Name'].str.split('\\\\').str.get(0)\n",
    "    # fix: Combine these .locs\n",
    "    full_draft = order.loc[order['Full Name'].str[:5] != \"Round\"]\n",
    "    full_draft = full_draft.loc[order['Source Rank'] != \"Overall\"]\n",
    "    full_draft.to_csv('nhl/' + full_draft_filename, index=False)\n",
    "    \n",
    "    rd_1 = order.iloc[1:31]\n",
    "    rd_1.to_csv('nhl/' + rd_1_filename, index=False)\n",
    "    \n",
    "#     return full_draft"
   ]
  },
  {
   "cell_type": "markdown",
   "metadata": {},
   "source": [
    "### *Careful with cell below*\n",
    "*Ensure commented out unless you want to overwrite source data*"
   ]
  },
  {
   "cell_type": "code",
   "execution_count": 371,
   "metadata": {
    "collapsed": false
   },
   "outputs": [],
   "source": [
    "# Manually changed Erik Karlsson in 2012 'nhl 2012 messy.csv' to Erik Karlsson (2012)\n",
    "# 2010 and 2011 already done\n",
    "nhl_draft_order('nhl 2012 messy.csv', 'nhl 2012 full draft.csv' , 'nhl 2012 round 1.csv')\n",
    "nhl_draft_order('nhl 2013 messy.csv', 'nhl 2013 full draft.csv' , 'nhl 2013 round 1.csv')\n",
    "nhl_draft_order('nhl 2014 messy.csv', 'nhl 2014 full draft.csv' , 'nhl 2014 round 1.csv')"
   ]
  },
  {
   "cell_type": "code",
   "execution_count": 372,
   "metadata": {
    "collapsed": false
   },
   "outputs": [],
   "source": [
    "# Join totals table with full draft table, sort by ps/60, apply new index based on PS/60\n",
    "def create_ps60_rank(full_draft_filename, ps_60_filename):\n",
    "    full_draft = pd.read_csv('nhl/'+ full_draft_filename)\n",
    "    full_draft = full_draft.join(totals, on='Full Name', how='left')\n",
    "    ps60_rank = full_draft.sort_values('PS/60', ascending=False).reset_index(drop=True)\n",
    "    counter = 0\n",
    "    for i, row in ps60_rank.iterrows():\n",
    "        if pd.isnull(row['TOI']) and counter == 0:\n",
    "            tied_for_last = i+1\n",
    "            counter = 1\n",
    "            ps60_rank.set_value(i, 'PS/60 Rank', i+1)\n",
    "        elif pd.isnull(row['TOI']):\n",
    "            ps60_rank.set_value(i, 'PS/60 Rank', tied_for_last)\n",
    "        else:\n",
    "            ps60_rank.set_value(i, 'PS/60 Rank', i+1)\n",
    "    # Isolate last name for name checking purposes\n",
    "    ps60_rank['Last Name'] = ps60_rank['Full Name'].str.rpartition(' ')[2]\n",
    "    ps60_rank = ps60_rank[['Full Name', 'Last Name', 'TOI', 'PS', 'PS/60','PS/60 Rank']]\n",
    "    ps60_rank.to_csv('ps/' + ps_60_filename, index=False, float_format='%d')\n",
    "    return ps60_rank"
   ]
  },
  {
   "cell_type": "code",
   "execution_count": 373,
   "metadata": {
    "collapsed": false
   },
   "outputs": [
    {
     "data": {
      "text/html": [
       "<div>\n",
       "<table border=\"1\" class=\"dataframe\">\n",
       "  <thead>\n",
       "    <tr style=\"text-align: right;\">\n",
       "      <th></th>\n",
       "      <th>Full Name</th>\n",
       "      <th>Last Name</th>\n",
       "      <th>TOI</th>\n",
       "      <th>PS</th>\n",
       "      <th>PS/60</th>\n",
       "      <th>PS/60 Rank</th>\n",
       "    </tr>\n",
       "  </thead>\n",
       "  <tbody>\n",
       "    <tr>\n",
       "      <th>0</th>\n",
       "      <td>Vladimir Tarasenko</td>\n",
       "      <td>Tarasenko</td>\n",
       "      <td>4329.1166667</td>\n",
       "      <td>30.7</td>\n",
       "      <td>0.4254910</td>\n",
       "      <td>1.0</td>\n",
       "    </tr>\n",
       "    <tr>\n",
       "      <th>1</th>\n",
       "      <td>Tyler Seguin</td>\n",
       "      <td>Seguin</td>\n",
       "      <td>7428.9833333</td>\n",
       "      <td>47.8</td>\n",
       "      <td>0.3860555</td>\n",
       "      <td>2.0</td>\n",
       "    </tr>\n",
       "    <tr>\n",
       "      <th>2</th>\n",
       "      <td>Tyler Toffoli</td>\n",
       "      <td>Toffoli</td>\n",
       "      <td>3450.4166667</td>\n",
       "      <td>21.5</td>\n",
       "      <td>0.3738679</td>\n",
       "      <td>3.0</td>\n",
       "    </tr>\n",
       "    <tr>\n",
       "      <th>3</th>\n",
       "      <td>Scott Wedgewood</td>\n",
       "      <td>Wedgewood</td>\n",
       "      <td>240.7500000</td>\n",
       "      <td>1.3</td>\n",
       "      <td>0.3239875</td>\n",
       "      <td>4.0</td>\n",
       "    </tr>\n",
       "    <tr>\n",
       "      <th>4</th>\n",
       "      <td>John Klingberg</td>\n",
       "      <td>Klingberg</td>\n",
       "      <td>3144.0000000</td>\n",
       "      <td>16.9</td>\n",
       "      <td>0.3225191</td>\n",
       "      <td>5.0</td>\n",
       "    </tr>\n",
       "  </tbody>\n",
       "</table>\n",
       "</div>"
      ],
      "text/plain": [
       "            Full Name  Last Name           TOI    PS      PS/60  PS/60 Rank\n",
       "0  Vladimir Tarasenko  Tarasenko  4329.1166667  30.7  0.4254910         1.0\n",
       "1        Tyler Seguin     Seguin  7428.9833333  47.8  0.3860555         2.0\n",
       "2       Tyler Toffoli    Toffoli  3450.4166667  21.5  0.3738679         3.0\n",
       "3     Scott Wedgewood  Wedgewood   240.7500000   1.3  0.3239875         4.0\n",
       "4      John Klingberg  Klingberg  3144.0000000  16.9  0.3225191         5.0"
      ]
     },
     "execution_count": 373,
     "metadata": {},
     "output_type": "execute_result"
    }
   ],
   "source": [
    "create_ps60_rank('nhl 2010 full draft.csv', 'ps 2010.csv').head()"
   ]
  },
  {
   "cell_type": "code",
   "execution_count": 374,
   "metadata": {
    "collapsed": false
   },
   "outputs": [
    {
     "data": {
      "text/html": [
       "<div>\n",
       "<table border=\"1\" class=\"dataframe\">\n",
       "  <thead>\n",
       "    <tr style=\"text-align: right;\">\n",
       "      <th></th>\n",
       "      <th>Full Name</th>\n",
       "      <th>Last Name</th>\n",
       "      <th>TOI</th>\n",
       "      <th>PS</th>\n",
       "      <th>PS/60</th>\n",
       "      <th>PS/60 Rank</th>\n",
       "    </tr>\n",
       "  </thead>\n",
       "  <tbody>\n",
       "    <tr>\n",
       "      <th>0</th>\n",
       "      <td>Nikita Kucherov</td>\n",
       "      <td>Kucherov</td>\n",
       "      <td>3310.3333333</td>\n",
       "      <td>21.0</td>\n",
       "      <td>0.3806263</td>\n",
       "      <td>1.0</td>\n",
       "    </tr>\n",
       "    <tr>\n",
       "      <th>1</th>\n",
       "      <td>Johnny Gaudreau</td>\n",
       "      <td>Gaudreau</td>\n",
       "      <td>2991.8666667</td>\n",
       "      <td>17.0</td>\n",
       "      <td>0.3409243</td>\n",
       "      <td>2.0</td>\n",
       "    </tr>\n",
       "    <tr>\n",
       "      <th>2</th>\n",
       "      <td>Ondrej Palat</td>\n",
       "      <td>Palat</td>\n",
       "      <td>4043.3333333</td>\n",
       "      <td>21.3</td>\n",
       "      <td>0.3160758</td>\n",
       "      <td>3.0</td>\n",
       "    </tr>\n",
       "    <tr>\n",
       "      <th>3</th>\n",
       "      <td>Brandon Saad</td>\n",
       "      <td>Saad</td>\n",
       "      <td>4813.8000000</td>\n",
       "      <td>22.8</td>\n",
       "      <td>0.2841830</td>\n",
       "      <td>4.0</td>\n",
       "    </tr>\n",
       "    <tr>\n",
       "      <th>4</th>\n",
       "      <td>Josh Leivo</td>\n",
       "      <td>Leivo</td>\n",
       "      <td>285.6833333</td>\n",
       "      <td>1.3</td>\n",
       "      <td>0.2730296</td>\n",
       "      <td>5.0</td>\n",
       "    </tr>\n",
       "  </tbody>\n",
       "</table>\n",
       "</div>"
      ],
      "text/plain": [
       "         Full Name Last Name           TOI    PS      PS/60  PS/60 Rank\n",
       "0  Nikita Kucherov  Kucherov  3310.3333333  21.0  0.3806263         1.0\n",
       "1  Johnny Gaudreau  Gaudreau  2991.8666667  17.0  0.3409243         2.0\n",
       "2     Ondrej Palat     Palat  4043.3333333  21.3  0.3160758         3.0\n",
       "3     Brandon Saad      Saad  4813.8000000  22.8  0.2841830         4.0\n",
       "4       Josh Leivo     Leivo   285.6833333   1.3  0.2730296         5.0"
      ]
     },
     "execution_count": 374,
     "metadata": {},
     "output_type": "execute_result"
    }
   ],
   "source": [
    "create_ps60_rank('nhl 2011 full draft.csv', 'ps 2011.csv').head()"
   ]
  },
  {
   "cell_type": "code",
   "execution_count": 375,
   "metadata": {
    "collapsed": false
   },
   "outputs": [
    {
     "data": {
      "text/html": [
       "<div>\n",
       "<table border=\"1\" class=\"dataframe\">\n",
       "  <thead>\n",
       "    <tr style=\"text-align: right;\">\n",
       "      <th></th>\n",
       "      <th>Full Name</th>\n",
       "      <th>Last Name</th>\n",
       "      <th>TOI</th>\n",
       "      <th>PS</th>\n",
       "      <th>PS/60</th>\n",
       "      <th>PS/60 Rank</th>\n",
       "    </tr>\n",
       "  </thead>\n",
       "  <tbody>\n",
       "    <tr>\n",
       "      <th>0</th>\n",
       "      <td>Shayne Gostisbehere</td>\n",
       "      <td>Gostisbehere</td>\n",
       "      <td>1310.9000000</td>\n",
       "      <td>8.7</td>\n",
       "      <td>0.3981997</td>\n",
       "      <td>1.0</td>\n",
       "    </tr>\n",
       "    <tr>\n",
       "      <th>1</th>\n",
       "      <td>Andreas Athanasiou</td>\n",
       "      <td>Athanasiou</td>\n",
       "      <td>333.6500000</td>\n",
       "      <td>2.1</td>\n",
       "      <td>0.3776412</td>\n",
       "      <td>2.0</td>\n",
       "    </tr>\n",
       "    <tr>\n",
       "      <th>2</th>\n",
       "      <td>Colton Parayko</td>\n",
       "      <td>Parayko</td>\n",
       "      <td>1531.5666667</td>\n",
       "      <td>8.8</td>\n",
       "      <td>0.3447450</td>\n",
       "      <td>3.0</td>\n",
       "    </tr>\n",
       "    <tr>\n",
       "      <th>3</th>\n",
       "      <td>Filip Forsberg</td>\n",
       "      <td>Forsberg</td>\n",
       "      <td>1646.1333333</td>\n",
       "      <td>8.2</td>\n",
       "      <td>0.2988822</td>\n",
       "      <td>4.0</td>\n",
       "    </tr>\n",
       "    <tr>\n",
       "      <th>4</th>\n",
       "      <td>Connor Brown</td>\n",
       "      <td>Brown</td>\n",
       "      <td>104.8000000</td>\n",
       "      <td>0.5</td>\n",
       "      <td>0.2862595</td>\n",
       "      <td>5.0</td>\n",
       "    </tr>\n",
       "  </tbody>\n",
       "</table>\n",
       "</div>"
      ],
      "text/plain": [
       "             Full Name     Last Name           TOI   PS      PS/60  PS/60 Rank\n",
       "0  Shayne Gostisbehere  Gostisbehere  1310.9000000  8.7  0.3981997         1.0\n",
       "1   Andreas Athanasiou    Athanasiou   333.6500000  2.1  0.3776412         2.0\n",
       "2       Colton Parayko       Parayko  1531.5666667  8.8  0.3447450         3.0\n",
       "3       Filip Forsberg      Forsberg  1646.1333333  8.2  0.2988822         4.0\n",
       "4         Connor Brown         Brown   104.8000000  0.5  0.2862595         5.0"
      ]
     },
     "execution_count": 375,
     "metadata": {},
     "output_type": "execute_result"
    }
   ],
   "source": [
    "create_ps60_rank('nhl 2012 full draft.csv', 'ps 2012.csv').head()"
   ]
  },
  {
   "cell_type": "code",
   "execution_count": 376,
   "metadata": {
    "collapsed": false
   },
   "outputs": [
    {
     "data": {
      "text/html": [
       "<div>\n",
       "<table border=\"1\" class=\"dataframe\">\n",
       "  <thead>\n",
       "    <tr style=\"text-align: right;\">\n",
       "      <th></th>\n",
       "      <th>Full Name</th>\n",
       "      <th>Last Name</th>\n",
       "      <th>TOI</th>\n",
       "      <th>PS</th>\n",
       "      <th>PS/60</th>\n",
       "      <th>PS/60 Rank</th>\n",
       "    </tr>\n",
       "  </thead>\n",
       "  <tbody>\n",
       "    <tr>\n",
       "      <th>0</th>\n",
       "      <td>Oliver Bjorkstrand</td>\n",
       "      <td>Bjorkstrand</td>\n",
       "      <td>191.7166667</td>\n",
       "      <td>1.3</td>\n",
       "      <td>0.4068504</td>\n",
       "      <td>1.0</td>\n",
       "    </tr>\n",
       "    <tr>\n",
       "      <th>1</th>\n",
       "      <td>Kristers Gudlevskis</td>\n",
       "      <td>Gudlevskis</td>\n",
       "      <td>119.9500000</td>\n",
       "      <td>0.8</td>\n",
       "      <td>0.4001667</td>\n",
       "      <td>2.0</td>\n",
       "    </tr>\n",
       "    <tr>\n",
       "      <th>2</th>\n",
       "      <td>Shea Theodore</td>\n",
       "      <td>Theodore</td>\n",
       "      <td>363.0666667</td>\n",
       "      <td>2.3</td>\n",
       "      <td>0.3800955</td>\n",
       "      <td>3.0</td>\n",
       "    </tr>\n",
       "    <tr>\n",
       "      <th>3</th>\n",
       "      <td>Mackenzie Skapski</td>\n",
       "      <td>Skapski</td>\n",
       "      <td>119.0833333</td>\n",
       "      <td>0.6</td>\n",
       "      <td>0.3023093</td>\n",
       "      <td>4.0</td>\n",
       "    </tr>\n",
       "    <tr>\n",
       "      <th>4</th>\n",
       "      <td>Anthony Duclair</td>\n",
       "      <td>Duclair</td>\n",
       "      <td>1383.5500000</td>\n",
       "      <td>6.5</td>\n",
       "      <td>0.2818836</td>\n",
       "      <td>5.0</td>\n",
       "    </tr>\n",
       "    <tr>\n",
       "      <th>5</th>\n",
       "      <td>Nathan MacKinnon</td>\n",
       "      <td>MacKinnon</td>\n",
       "      <td>3871.4166667</td>\n",
       "      <td>17.1</td>\n",
       "      <td>0.2650193</td>\n",
       "      <td>6.0</td>\n",
       "    </tr>\n",
       "    <tr>\n",
       "      <th>6</th>\n",
       "      <td>Max Domi</td>\n",
       "      <td>Domi</td>\n",
       "      <td>1326.3166667</td>\n",
       "      <td>5.8</td>\n",
       "      <td>0.2623808</td>\n",
       "      <td>7.0</td>\n",
       "    </tr>\n",
       "    <tr>\n",
       "      <th>7</th>\n",
       "      <td>Andre Burakovsky</td>\n",
       "      <td>Burakovsky</td>\n",
       "      <td>1713.7333333</td>\n",
       "      <td>7.4</td>\n",
       "      <td>0.2590835</td>\n",
       "      <td>8.0</td>\n",
       "    </tr>\n",
       "    <tr>\n",
       "      <th>8</th>\n",
       "      <td>Sean Monahan</td>\n",
       "      <td>Monahan</td>\n",
       "      <td>4340.1000000</td>\n",
       "      <td>18.4</td>\n",
       "      <td>0.2543720</td>\n",
       "      <td>9.0</td>\n",
       "    </tr>\n",
       "  </tbody>\n",
       "</table>\n",
       "</div>"
      ],
      "text/plain": [
       "             Full Name    Last Name           TOI    PS      PS/60  PS/60 Rank\n",
       "0   Oliver Bjorkstrand  Bjorkstrand   191.7166667   1.3  0.4068504         1.0\n",
       "1  Kristers Gudlevskis   Gudlevskis   119.9500000   0.8  0.4001667         2.0\n",
       "2        Shea Theodore     Theodore   363.0666667   2.3  0.3800955         3.0\n",
       "3    Mackenzie Skapski      Skapski   119.0833333   0.6  0.3023093         4.0\n",
       "4      Anthony Duclair      Duclair  1383.5500000   6.5  0.2818836         5.0\n",
       "5     Nathan MacKinnon    MacKinnon  3871.4166667  17.1  0.2650193         6.0\n",
       "6             Max Domi         Domi  1326.3166667   5.8  0.2623808         7.0\n",
       "7     Andre Burakovsky   Burakovsky  1713.7333333   7.4  0.2590835         8.0\n",
       "8         Sean Monahan      Monahan  4340.1000000  18.4  0.2543720         9.0"
      ]
     },
     "execution_count": 376,
     "metadata": {},
     "output_type": "execute_result"
    }
   ],
   "source": [
    "create_ps60_rank('nhl 2013 full draft.csv', 'ps 2013.csv').head(9)"
   ]
  },
  {
   "cell_type": "code",
   "execution_count": 377,
   "metadata": {
    "collapsed": false
   },
   "outputs": [
    {
     "data": {
      "text/html": [
       "<div>\n",
       "<table border=\"1\" class=\"dataframe\">\n",
       "  <thead>\n",
       "    <tr style=\"text-align: right;\">\n",
       "      <th></th>\n",
       "      <th>Full Name</th>\n",
       "      <th>Last Name</th>\n",
       "      <th>TOI</th>\n",
       "      <th>PS</th>\n",
       "      <th>PS/60</th>\n",
       "      <th>PS/60 Rank</th>\n",
       "    </tr>\n",
       "  </thead>\n",
       "  <tbody>\n",
       "    <tr>\n",
       "      <th>0</th>\n",
       "      <td>David Pastrnak</td>\n",
       "      <td>Pastrnak</td>\n",
       "      <td>1353.9666667</td>\n",
       "      <td>7.1</td>\n",
       "      <td>0.3146311</td>\n",
       "      <td>1.0</td>\n",
       "    </tr>\n",
       "    <tr>\n",
       "      <th>1</th>\n",
       "      <td>Aaron Ekblad</td>\n",
       "      <td>Ekblad</td>\n",
       "      <td>3457.4333333</td>\n",
       "      <td>16.7</td>\n",
       "      <td>0.2898104</td>\n",
       "      <td>2.0</td>\n",
       "    </tr>\n",
       "    <tr>\n",
       "      <th>2</th>\n",
       "      <td>Robby Fabbri</td>\n",
       "      <td>Fabbri</td>\n",
       "      <td>958.6833333</td>\n",
       "      <td>4.6</td>\n",
       "      <td>0.2878949</td>\n",
       "      <td>3.0</td>\n",
       "    </tr>\n",
       "    <tr>\n",
       "      <th>3</th>\n",
       "      <td>Dylan Larkin</td>\n",
       "      <td>Larkin</td>\n",
       "      <td>1323.5333333</td>\n",
       "      <td>6.0</td>\n",
       "      <td>0.2719992</td>\n",
       "      <td>4.0</td>\n",
       "    </tr>\n",
       "    <tr>\n",
       "      <th>4</th>\n",
       "      <td>William Nylander</td>\n",
       "      <td>Nylander</td>\n",
       "      <td>359.4333333</td>\n",
       "      <td>1.6</td>\n",
       "      <td>0.2670871</td>\n",
       "      <td>5.0</td>\n",
       "    </tr>\n",
       "  </tbody>\n",
       "</table>\n",
       "</div>"
      ],
      "text/plain": [
       "          Full Name Last Name           TOI    PS      PS/60  PS/60 Rank\n",
       "0    David Pastrnak  Pastrnak  1353.9666667   7.1  0.3146311         1.0\n",
       "1      Aaron Ekblad    Ekblad  3457.4333333  16.7  0.2898104         2.0\n",
       "2      Robby Fabbri    Fabbri   958.6833333   4.6  0.2878949         3.0\n",
       "3      Dylan Larkin    Larkin  1323.5333333   6.0  0.2719992         4.0\n",
       "4  William Nylander  Nylander   359.4333333   1.6  0.2670871         5.0"
      ]
     },
     "execution_count": 377,
     "metadata": {},
     "output_type": "execute_result"
    }
   ],
   "source": [
    "create_ps60_rank('nhl 2014 full draft.csv', 'ps 2014.csv').head()"
   ]
  },
  {
   "cell_type": "markdown",
   "metadata": {},
   "source": [
    "# CALCULATING SCOUTING PERFORMANCE"
   ]
  },
  {
   "cell_type": "code",
   "execution_count": 378,
   "metadata": {
    "collapsed": true
   },
   "outputs": [],
   "source": [
    "# Calculate absolute difference between source rank and PS/60 rank\n",
    "def abs_diff(source_filename, ps_60_filename):\n",
    "    source = pd.read_csv(source_filename)\n",
    "    ps60 = pd.read_csv(ps_60_filename)\n",
    "    abs_diff = pd.merge(source, ps60, on='Full Name', how='left')\n",
    "    abs_diff = abs_diff[['Full Name', 'Source Rank', 'PS/60 Rank']]\n",
    "    abs_diff['Absolute Difference'] = abs(abs_diff['Source Rank'] - abs_diff['PS/60 Rank'])\n",
    "    return abs_diff"
   ]
  },
  {
   "cell_type": "markdown",
   "metadata": {},
   "source": [
    "## Actual NHL Draft Order"
   ]
  },
  {
   "cell_type": "markdown",
   "metadata": {},
   "source": [
    "### NHL 2010"
   ]
  },
  {
   "cell_type": "code",
   "execution_count": 379,
   "metadata": {
    "collapsed": false
   },
   "outputs": [
    {
     "data": {
      "text/html": [
       "<div>\n",
       "<table border=\"1\" class=\"dataframe\">\n",
       "  <thead>\n",
       "    <tr style=\"text-align: right;\">\n",
       "      <th></th>\n",
       "      <th>Full Name</th>\n",
       "      <th>Source Rank</th>\n",
       "      <th>PS/60 Rank</th>\n",
       "      <th>Absolute Difference</th>\n",
       "    </tr>\n",
       "  </thead>\n",
       "  <tbody>\n",
       "    <tr>\n",
       "      <th>0</th>\n",
       "      <td>Taylor Hall</td>\n",
       "      <td>1</td>\n",
       "      <td>6</td>\n",
       "      <td>5</td>\n",
       "    </tr>\n",
       "    <tr>\n",
       "      <th>1</th>\n",
       "      <td>Tyler Seguin</td>\n",
       "      <td>2</td>\n",
       "      <td>2</td>\n",
       "      <td>0</td>\n",
       "    </tr>\n",
       "    <tr>\n",
       "      <th>2</th>\n",
       "      <td>Erik Gudbranson</td>\n",
       "      <td>3</td>\n",
       "      <td>60</td>\n",
       "      <td>57</td>\n",
       "    </tr>\n",
       "    <tr>\n",
       "      <th>3</th>\n",
       "      <td>Ryan Johansen</td>\n",
       "      <td>4</td>\n",
       "      <td>14</td>\n",
       "      <td>10</td>\n",
       "    </tr>\n",
       "    <tr>\n",
       "      <th>4</th>\n",
       "      <td>Nino Niederreiter</td>\n",
       "      <td>5</td>\n",
       "      <td>26</td>\n",
       "      <td>21</td>\n",
       "    </tr>\n",
       "  </tbody>\n",
       "</table>\n",
       "</div>"
      ],
      "text/plain": [
       "           Full Name  Source Rank  PS/60 Rank  Absolute Difference\n",
       "0        Taylor Hall            1           6                    5\n",
       "1       Tyler Seguin            2           2                    0\n",
       "2    Erik Gudbranson            3          60                   57\n",
       "3      Ryan Johansen            4          14                   10\n",
       "4  Nino Niederreiter            5          26                   21"
      ]
     },
     "execution_count": 379,
     "metadata": {},
     "output_type": "execute_result"
    }
   ],
   "source": [
    "abs_diff_nhl_2010 = abs_diff('nhl/nhl 2010 round 1.csv', 'ps/ps 2010.csv')\n",
    "abs_diff_nhl_2010.head()"
   ]
  },
  {
   "cell_type": "code",
   "execution_count": 380,
   "metadata": {
    "collapsed": false
   },
   "outputs": [
    {
     "data": {
      "text/plain": [
       "791"
      ]
     },
     "execution_count": 380,
     "metadata": {},
     "output_type": "execute_result"
    }
   ],
   "source": [
    "abs_diff_nhl_2010['Absolute Difference'].sum()"
   ]
  },
  {
   "cell_type": "markdown",
   "metadata": {},
   "source": [
    "### NHL 2011"
   ]
  },
  {
   "cell_type": "code",
   "execution_count": 381,
   "metadata": {
    "collapsed": false
   },
   "outputs": [
    {
     "data": {
      "text/html": [
       "<div>\n",
       "<table border=\"1\" class=\"dataframe\">\n",
       "  <thead>\n",
       "    <tr style=\"text-align: right;\">\n",
       "      <th></th>\n",
       "      <th>Full Name</th>\n",
       "      <th>Source Rank</th>\n",
       "      <th>PS/60 Rank</th>\n",
       "      <th>Absolute Difference</th>\n",
       "    </tr>\n",
       "  </thead>\n",
       "  <tbody>\n",
       "    <tr>\n",
       "      <th>0</th>\n",
       "      <td>Ryan Nugent-Hopkins</td>\n",
       "      <td>1</td>\n",
       "      <td>15</td>\n",
       "      <td>14</td>\n",
       "    </tr>\n",
       "    <tr>\n",
       "      <th>1</th>\n",
       "      <td>Gabriel Landeskog</td>\n",
       "      <td>2</td>\n",
       "      <td>8</td>\n",
       "      <td>6</td>\n",
       "    </tr>\n",
       "    <tr>\n",
       "      <th>2</th>\n",
       "      <td>Jonathan Huberdeau</td>\n",
       "      <td>3</td>\n",
       "      <td>12</td>\n",
       "      <td>9</td>\n",
       "    </tr>\n",
       "    <tr>\n",
       "      <th>3</th>\n",
       "      <td>Adam Larsson</td>\n",
       "      <td>4</td>\n",
       "      <td>20</td>\n",
       "      <td>16</td>\n",
       "    </tr>\n",
       "    <tr>\n",
       "      <th>4</th>\n",
       "      <td>Ryan Strome</td>\n",
       "      <td>5</td>\n",
       "      <td>19</td>\n",
       "      <td>14</td>\n",
       "    </tr>\n",
       "  </tbody>\n",
       "</table>\n",
       "</div>"
      ],
      "text/plain": [
       "             Full Name  Source Rank  PS/60 Rank  Absolute Difference\n",
       "0  Ryan Nugent-Hopkins            1          15                   14\n",
       "1    Gabriel Landeskog            2           8                    6\n",
       "2   Jonathan Huberdeau            3          12                    9\n",
       "3         Adam Larsson            4          20                   16\n",
       "4          Ryan Strome            5          19                   14"
      ]
     },
     "execution_count": 381,
     "metadata": {},
     "output_type": "execute_result"
    }
   ],
   "source": [
    "abs_diff_nhl_2011 = abs_diff('nhl/nhl 2011 round 1.csv', 'ps/ps 2011.csv')\n",
    "abs_diff_nhl_2011.head()"
   ]
  },
  {
   "cell_type": "code",
   "execution_count": 382,
   "metadata": {
    "collapsed": false
   },
   "outputs": [
    {
     "data": {
      "text/plain": [
       "868"
      ]
     },
     "execution_count": 382,
     "metadata": {},
     "output_type": "execute_result"
    }
   ],
   "source": [
    "abs_diff_nhl_2011['Absolute Difference'].sum()"
   ]
  },
  {
   "cell_type": "markdown",
   "metadata": {},
   "source": [
    "### NHL 2012"
   ]
  },
  {
   "cell_type": "code",
   "execution_count": 383,
   "metadata": {
    "collapsed": false
   },
   "outputs": [
    {
     "data": {
      "text/html": [
       "<div>\n",
       "<table border=\"1\" class=\"dataframe\">\n",
       "  <thead>\n",
       "    <tr style=\"text-align: right;\">\n",
       "      <th></th>\n",
       "      <th>Full Name</th>\n",
       "      <th>Source Rank</th>\n",
       "      <th>PS/60 Rank</th>\n",
       "      <th>Absolute Difference</th>\n",
       "    </tr>\n",
       "  </thead>\n",
       "  <tbody>\n",
       "    <tr>\n",
       "      <th>0</th>\n",
       "      <td>Nail Yakupov</td>\n",
       "      <td>1</td>\n",
       "      <td>30</td>\n",
       "      <td>29</td>\n",
       "    </tr>\n",
       "    <tr>\n",
       "      <th>1</th>\n",
       "      <td>Ryan Murray</td>\n",
       "      <td>2</td>\n",
       "      <td>27</td>\n",
       "      <td>25</td>\n",
       "    </tr>\n",
       "    <tr>\n",
       "      <th>2</th>\n",
       "      <td>Alex Galchenyuk</td>\n",
       "      <td>3</td>\n",
       "      <td>6</td>\n",
       "      <td>3</td>\n",
       "    </tr>\n",
       "    <tr>\n",
       "      <th>3</th>\n",
       "      <td>Griffin Reinhart</td>\n",
       "      <td>4</td>\n",
       "      <td>50</td>\n",
       "      <td>46</td>\n",
       "    </tr>\n",
       "    <tr>\n",
       "      <th>4</th>\n",
       "      <td>Morgan Rielly</td>\n",
       "      <td>5</td>\n",
       "      <td>25</td>\n",
       "      <td>20</td>\n",
       "    </tr>\n",
       "  </tbody>\n",
       "</table>\n",
       "</div>"
      ],
      "text/plain": [
       "          Full Name  Source Rank  PS/60 Rank  Absolute Difference\n",
       "0      Nail Yakupov            1          30                   29\n",
       "1       Ryan Murray            2          27                   25\n",
       "2   Alex Galchenyuk            3           6                    3\n",
       "3  Griffin Reinhart            4          50                   46\n",
       "4     Morgan Rielly            5          25                   20"
      ]
     },
     "execution_count": 383,
     "metadata": {},
     "output_type": "execute_result"
    }
   ],
   "source": [
    "abs_diff_nhl_2012 = abs_diff('nhl/nhl 2012 round 1.csv', 'ps/ps 2012.csv')\n",
    "abs_diff_nhl_2012.head()"
   ]
  },
  {
   "cell_type": "code",
   "execution_count": 384,
   "metadata": {
    "collapsed": false
   },
   "outputs": [
    {
     "data": {
      "text/plain": [
       "634"
      ]
     },
     "execution_count": 384,
     "metadata": {},
     "output_type": "execute_result"
    }
   ],
   "source": [
    "abs_diff_nhl_2012['Absolute Difference'].sum()"
   ]
  },
  {
   "cell_type": "markdown",
   "metadata": {},
   "source": [
    "### NHL 2013"
   ]
  },
  {
   "cell_type": "code",
   "execution_count": 385,
   "metadata": {
    "collapsed": false
   },
   "outputs": [
    {
     "data": {
      "text/html": [
       "<div>\n",
       "<table border=\"1\" class=\"dataframe\">\n",
       "  <thead>\n",
       "    <tr style=\"text-align: right;\">\n",
       "      <th></th>\n",
       "      <th>Full Name</th>\n",
       "      <th>Source Rank</th>\n",
       "      <th>PS/60 Rank</th>\n",
       "      <th>Absolute Difference</th>\n",
       "    </tr>\n",
       "  </thead>\n",
       "  <tbody>\n",
       "    <tr>\n",
       "      <th>0</th>\n",
       "      <td>Nathan MacKinnon</td>\n",
       "      <td>1</td>\n",
       "      <td>6</td>\n",
       "      <td>5</td>\n",
       "    </tr>\n",
       "    <tr>\n",
       "      <th>1</th>\n",
       "      <td>Aleksander Barkov</td>\n",
       "      <td>2</td>\n",
       "      <td>12</td>\n",
       "      <td>10</td>\n",
       "    </tr>\n",
       "    <tr>\n",
       "      <th>2</th>\n",
       "      <td>Jonathan Drouin</td>\n",
       "      <td>3</td>\n",
       "      <td>15</td>\n",
       "      <td>12</td>\n",
       "    </tr>\n",
       "    <tr>\n",
       "      <th>3</th>\n",
       "      <td>Seth Jones</td>\n",
       "      <td>4</td>\n",
       "      <td>19</td>\n",
       "      <td>15</td>\n",
       "    </tr>\n",
       "    <tr>\n",
       "      <th>4</th>\n",
       "      <td>Elias Lindholm</td>\n",
       "      <td>5</td>\n",
       "      <td>23</td>\n",
       "      <td>18</td>\n",
       "    </tr>\n",
       "  </tbody>\n",
       "</table>\n",
       "</div>"
      ],
      "text/plain": [
       "           Full Name  Source Rank  PS/60 Rank  Absolute Difference\n",
       "0   Nathan MacKinnon            1           6                    5\n",
       "1  Aleksander Barkov            2          12                   10\n",
       "2    Jonathan Drouin            3          15                   12\n",
       "3         Seth Jones            4          19                   15\n",
       "4     Elias Lindholm            5          23                   18"
      ]
     },
     "execution_count": 385,
     "metadata": {},
     "output_type": "execute_result"
    }
   ],
   "source": [
    "abs_diff_nhl_2013 = abs_diff('nhl/nhl 2013 round 1.csv', 'ps/ps 2013.csv')\n",
    "abs_diff_nhl_2013.head()"
   ]
  },
  {
   "cell_type": "code",
   "execution_count": 386,
   "metadata": {
    "collapsed": false
   },
   "outputs": [
    {
     "data": {
      "text/plain": [
       "362"
      ]
     },
     "execution_count": 386,
     "metadata": {},
     "output_type": "execute_result"
    }
   ],
   "source": [
    "abs_diff_nhl_2013['Absolute Difference'].sum()"
   ]
  },
  {
   "cell_type": "markdown",
   "metadata": {},
   "source": [
    "### NHL 2014"
   ]
  },
  {
   "cell_type": "code",
   "execution_count": 387,
   "metadata": {
    "collapsed": true
   },
   "outputs": [],
   "source": [
    "# abs_diff_nhl_2014 = abs_diff('nhl/nhl 2014 round 1.csv', 'ps/ps 2014.csv')\n",
    "# abs_diff_nhl_2014.head()"
   ]
  },
  {
   "cell_type": "code",
   "execution_count": 388,
   "metadata": {
    "collapsed": true
   },
   "outputs": [],
   "source": [
    "# abs_diff_nhl_2014['Absolute Difference'].sum()"
   ]
  },
  {
   "cell_type": "markdown",
   "metadata": {},
   "source": [
    "### NHL Average Total Absolute Difference"
   ]
  },
  {
   "cell_type": "code",
   "execution_count": 389,
   "metadata": {
    "collapsed": false
   },
   "outputs": [
    {
     "data": {
      "text/plain": [
       "663"
      ]
     },
     "execution_count": 389,
     "metadata": {},
     "output_type": "execute_result"
    }
   ],
   "source": [
    "total_nhl = abs_diff_nhl_2010['Absolute Difference'].sum() + \\\n",
    "            abs_diff_nhl_2011['Absolute Difference'].sum() + \\\n",
    "            abs_diff_nhl_2012['Absolute Difference'].sum() + \\\n",
    "            abs_diff_nhl_2013['Absolute Difference'].sum()\n",
    "total_nhl / 4"
   ]
  },
  {
   "cell_type": "markdown",
   "metadata": {},
   "source": [
    "## Pronman"
   ]
  },
  {
   "cell_type": "markdown",
   "metadata": {},
   "source": [
    "### Pronman 2010"
   ]
  },
  {
   "cell_type": "code",
   "execution_count": 390,
   "metadata": {
    "collapsed": false,
    "scrolled": false
   },
   "outputs": [
    {
     "data": {
      "text/html": [
       "<div>\n",
       "<table border=\"1\" class=\"dataframe\">\n",
       "  <thead>\n",
       "    <tr style=\"text-align: right;\">\n",
       "      <th></th>\n",
       "      <th>Full Name</th>\n",
       "      <th>Source Rank</th>\n",
       "      <th>PS/60 Rank</th>\n",
       "      <th>Absolute Difference</th>\n",
       "    </tr>\n",
       "  </thead>\n",
       "  <tbody>\n",
       "    <tr>\n",
       "      <th>0</th>\n",
       "      <td>Taylor Hall</td>\n",
       "      <td>1</td>\n",
       "      <td>6</td>\n",
       "      <td>5</td>\n",
       "    </tr>\n",
       "    <tr>\n",
       "      <th>1</th>\n",
       "      <td>Tyler Seguin</td>\n",
       "      <td>2</td>\n",
       "      <td>2</td>\n",
       "      <td>0</td>\n",
       "    </tr>\n",
       "    <tr>\n",
       "      <th>2</th>\n",
       "      <td>Cam Fowler</td>\n",
       "      <td>3</td>\n",
       "      <td>30</td>\n",
       "      <td>27</td>\n",
       "    </tr>\n",
       "    <tr>\n",
       "      <th>3</th>\n",
       "      <td>Kirill Kabanov</td>\n",
       "      <td>4</td>\n",
       "      <td>83</td>\n",
       "      <td>79</td>\n",
       "    </tr>\n",
       "    <tr>\n",
       "      <th>4</th>\n",
       "      <td>Brandon Gormley</td>\n",
       "      <td>5</td>\n",
       "      <td>56</td>\n",
       "      <td>51</td>\n",
       "    </tr>\n",
       "  </tbody>\n",
       "</table>\n",
       "</div>"
      ],
      "text/plain": [
       "         Full Name  Source Rank  PS/60 Rank  Absolute Difference\n",
       "0      Taylor Hall            1           6                    5\n",
       "1     Tyler Seguin            2           2                    0\n",
       "2       Cam Fowler            3          30                   27\n",
       "3   Kirill Kabanov            4          83                   79\n",
       "4  Brandon Gormley            5          56                   51"
      ]
     },
     "execution_count": 390,
     "metadata": {},
     "output_type": "execute_result"
    }
   ],
   "source": [
    "abs_diff_pronman_2010 = abs_diff('pronman/pronman 2010.csv', 'ps/ps 2010.csv')\n",
    "abs_diff_pronman_2010.head()"
   ]
  },
  {
   "cell_type": "code",
   "execution_count": 391,
   "metadata": {
    "collapsed": false
   },
   "outputs": [
    {
     "data": {
      "text/plain": [
       "873"
      ]
     },
     "execution_count": 391,
     "metadata": {},
     "output_type": "execute_result"
    }
   ],
   "source": [
    "abs_diff_pronman_2010['Absolute Difference'].sum()"
   ]
  },
  {
   "cell_type": "markdown",
   "metadata": {},
   "source": [
    "### Pronman 2011"
   ]
  },
  {
   "cell_type": "code",
   "execution_count": 392,
   "metadata": {
    "collapsed": false
   },
   "outputs": [
    {
     "data": {
      "text/html": [
       "<div>\n",
       "<table border=\"1\" class=\"dataframe\">\n",
       "  <thead>\n",
       "    <tr style=\"text-align: right;\">\n",
       "      <th></th>\n",
       "      <th>Full Name</th>\n",
       "      <th>Source Rank</th>\n",
       "      <th>PS/60 Rank</th>\n",
       "      <th>Absolute Difference</th>\n",
       "    </tr>\n",
       "  </thead>\n",
       "  <tbody>\n",
       "    <tr>\n",
       "      <th>0</th>\n",
       "      <td>Ryan Nugent-Hopkins</td>\n",
       "      <td>1</td>\n",
       "      <td>15</td>\n",
       "      <td>14</td>\n",
       "    </tr>\n",
       "    <tr>\n",
       "      <th>1</th>\n",
       "      <td>Sean Couturier</td>\n",
       "      <td>2</td>\n",
       "      <td>40</td>\n",
       "      <td>38</td>\n",
       "    </tr>\n",
       "    <tr>\n",
       "      <th>2</th>\n",
       "      <td>Ryan Strome</td>\n",
       "      <td>3</td>\n",
       "      <td>19</td>\n",
       "      <td>16</td>\n",
       "    </tr>\n",
       "    <tr>\n",
       "      <th>3</th>\n",
       "      <td>Jonathan Huberdeau</td>\n",
       "      <td>4</td>\n",
       "      <td>12</td>\n",
       "      <td>8</td>\n",
       "    </tr>\n",
       "    <tr>\n",
       "      <th>4</th>\n",
       "      <td>Adam Larsson</td>\n",
       "      <td>5</td>\n",
       "      <td>20</td>\n",
       "      <td>15</td>\n",
       "    </tr>\n",
       "  </tbody>\n",
       "</table>\n",
       "</div>"
      ],
      "text/plain": [
       "             Full Name  Source Rank  PS/60 Rank  Absolute Difference\n",
       "0  Ryan Nugent-Hopkins            1          15                   14\n",
       "1       Sean Couturier            2          40                   38\n",
       "2          Ryan Strome            3          19                   16\n",
       "3   Jonathan Huberdeau            4          12                    8\n",
       "4         Adam Larsson            5          20                   15"
      ]
     },
     "execution_count": 392,
     "metadata": {},
     "output_type": "execute_result"
    }
   ],
   "source": [
    "abs_diff_pronman_2011 = abs_diff('pronman/pronman 2011.csv', 'ps/ps 2011.csv')\n",
    "abs_diff_pronman_2011.head()"
   ]
  },
  {
   "cell_type": "code",
   "execution_count": 393,
   "metadata": {
    "collapsed": false
   },
   "outputs": [
    {
     "data": {
      "text/plain": [
       "928"
      ]
     },
     "execution_count": 393,
     "metadata": {},
     "output_type": "execute_result"
    }
   ],
   "source": [
    "abs_diff_pronman_2011['Absolute Difference'].sum()"
   ]
  },
  {
   "cell_type": "markdown",
   "metadata": {},
   "source": [
    "### Pronman 2012"
   ]
  },
  {
   "cell_type": "code",
   "execution_count": 394,
   "metadata": {
    "collapsed": false
   },
   "outputs": [
    {
     "data": {
      "text/html": [
       "<div>\n",
       "<table border=\"1\" class=\"dataframe\">\n",
       "  <thead>\n",
       "    <tr style=\"text-align: right;\">\n",
       "      <th></th>\n",
       "      <th>Full Name</th>\n",
       "      <th>Source Rank</th>\n",
       "      <th>PS/60 Rank</th>\n",
       "      <th>Absolute Difference</th>\n",
       "    </tr>\n",
       "  </thead>\n",
       "  <tbody>\n",
       "    <tr>\n",
       "      <th>0</th>\n",
       "      <td>Nail Yakupov</td>\n",
       "      <td>1</td>\n",
       "      <td>30</td>\n",
       "      <td>29</td>\n",
       "    </tr>\n",
       "    <tr>\n",
       "      <th>1</th>\n",
       "      <td>Mikhail Grigorenko</td>\n",
       "      <td>2</td>\n",
       "      <td>42</td>\n",
       "      <td>40</td>\n",
       "    </tr>\n",
       "    <tr>\n",
       "      <th>2</th>\n",
       "      <td>Alex Galchenyuk</td>\n",
       "      <td>3</td>\n",
       "      <td>6</td>\n",
       "      <td>3</td>\n",
       "    </tr>\n",
       "    <tr>\n",
       "      <th>3</th>\n",
       "      <td>Filip Forsberg</td>\n",
       "      <td>4</td>\n",
       "      <td>4</td>\n",
       "      <td>0</td>\n",
       "    </tr>\n",
       "    <tr>\n",
       "      <th>4</th>\n",
       "      <td>Teuvo Teravainen</td>\n",
       "      <td>5</td>\n",
       "      <td>28</td>\n",
       "      <td>23</td>\n",
       "    </tr>\n",
       "  </tbody>\n",
       "</table>\n",
       "</div>"
      ],
      "text/plain": [
       "            Full Name  Source Rank  PS/60 Rank  Absolute Difference\n",
       "0        Nail Yakupov            1          30                   29\n",
       "1  Mikhail Grigorenko            2          42                   40\n",
       "2     Alex Galchenyuk            3           6                    3\n",
       "3      Filip Forsberg            4           4                    0\n",
       "4    Teuvo Teravainen            5          28                   23"
      ]
     },
     "execution_count": 394,
     "metadata": {},
     "output_type": "execute_result"
    }
   ],
   "source": [
    "abs_diff_pronman_2012 = abs_diff('pronman/pronman 2012.csv', 'ps/ps 2012.csv')\n",
    "abs_diff_pronman_2012.head()"
   ]
  },
  {
   "cell_type": "code",
   "execution_count": 395,
   "metadata": {
    "collapsed": false
   },
   "outputs": [
    {
     "data": {
      "text/plain": [
       "705"
      ]
     },
     "execution_count": 395,
     "metadata": {},
     "output_type": "execute_result"
    }
   ],
   "source": [
    "abs_diff_pronman_2012['Absolute Difference'].sum()"
   ]
  },
  {
   "cell_type": "markdown",
   "metadata": {},
   "source": [
    "### Pronman 2013"
   ]
  },
  {
   "cell_type": "code",
   "execution_count": 396,
   "metadata": {
    "collapsed": false
   },
   "outputs": [
    {
     "data": {
      "text/html": [
       "<div>\n",
       "<table border=\"1\" class=\"dataframe\">\n",
       "  <thead>\n",
       "    <tr style=\"text-align: right;\">\n",
       "      <th></th>\n",
       "      <th>Full Name</th>\n",
       "      <th>Source Rank</th>\n",
       "      <th>PS/60 Rank</th>\n",
       "      <th>Absolute Difference</th>\n",
       "    </tr>\n",
       "  </thead>\n",
       "  <tbody>\n",
       "    <tr>\n",
       "      <th>0</th>\n",
       "      <td>Jonathan Drouin</td>\n",
       "      <td>1</td>\n",
       "      <td>15</td>\n",
       "      <td>14</td>\n",
       "    </tr>\n",
       "    <tr>\n",
       "      <th>1</th>\n",
       "      <td>Nathan MacKinnon</td>\n",
       "      <td>2</td>\n",
       "      <td>6</td>\n",
       "      <td>4</td>\n",
       "    </tr>\n",
       "    <tr>\n",
       "      <th>2</th>\n",
       "      <td>Seth Jones</td>\n",
       "      <td>3</td>\n",
       "      <td>19</td>\n",
       "      <td>16</td>\n",
       "    </tr>\n",
       "    <tr>\n",
       "      <th>3</th>\n",
       "      <td>Valeri Nichushkin</td>\n",
       "      <td>4</td>\n",
       "      <td>20</td>\n",
       "      <td>16</td>\n",
       "    </tr>\n",
       "    <tr>\n",
       "      <th>4</th>\n",
       "      <td>Aleksander Barkov</td>\n",
       "      <td>5</td>\n",
       "      <td>12</td>\n",
       "      <td>7</td>\n",
       "    </tr>\n",
       "  </tbody>\n",
       "</table>\n",
       "</div>"
      ],
      "text/plain": [
       "           Full Name  Source Rank  PS/60 Rank  Absolute Difference\n",
       "0    Jonathan Drouin            1          15                   14\n",
       "1   Nathan MacKinnon            2           6                    4\n",
       "2         Seth Jones            3          19                   16\n",
       "3  Valeri Nichushkin            4          20                   16\n",
       "4  Aleksander Barkov            5          12                    7"
      ]
     },
     "execution_count": 396,
     "metadata": {},
     "output_type": "execute_result"
    }
   ],
   "source": [
    "abs_diff_pronman_2013 = abs_diff('pronman/pronman 2013.csv', 'ps/ps 2013.csv')\n",
    "abs_diff_pronman_2013.head()"
   ]
  },
  {
   "cell_type": "code",
   "execution_count": 397,
   "metadata": {
    "collapsed": false
   },
   "outputs": [
    {
     "data": {
      "text/plain": [
       "341"
      ]
     },
     "execution_count": 397,
     "metadata": {},
     "output_type": "execute_result"
    }
   ],
   "source": [
    "abs_diff_pronman_2013['Absolute Difference'].sum()"
   ]
  },
  {
   "cell_type": "markdown",
   "metadata": {},
   "source": [
    "### Pronman 2014"
   ]
  },
  {
   "cell_type": "code",
   "execution_count": 398,
   "metadata": {
    "collapsed": false
   },
   "outputs": [],
   "source": [
    "# abs_diff_pronman_2014 = abs_diff('pronman/pronman 2014.csv', 'ps/ps 2014.csv')\n",
    "# abs_diff_pronman_2014.head()"
   ]
  },
  {
   "cell_type": "code",
   "execution_count": 399,
   "metadata": {
    "collapsed": false
   },
   "outputs": [],
   "source": [
    "# abs_diff_pronman_2014['Absolute Difference'].sum()"
   ]
  },
  {
   "cell_type": "markdown",
   "metadata": {},
   "source": [
    "### Pronman Average Total Absolute Difference"
   ]
  },
  {
   "cell_type": "code",
   "execution_count": 400,
   "metadata": {
    "collapsed": false
   },
   "outputs": [
    {
     "data": {
      "text/plain": [
       "711"
      ]
     },
     "execution_count": 400,
     "metadata": {},
     "output_type": "execute_result"
    }
   ],
   "source": [
    "total_pronman = abs_diff_pronman_2010['Absolute Difference'].sum() + \\\n",
    "                abs_diff_pronman_2011['Absolute Difference'].sum() + \\\n",
    "                abs_diff_pronman_2012['Absolute Difference'].sum() + \\\n",
    "                abs_diff_pronman_2013['Absolute Difference'].sum()\n",
    "total_pronman / 4"
   ]
  },
  {
   "cell_type": "markdown",
   "metadata": {},
   "source": [
    "## Button"
   ]
  },
  {
   "cell_type": "markdown",
   "metadata": {},
   "source": [
    "### Button 2011"
   ]
  },
  {
   "cell_type": "code",
   "execution_count": 401,
   "metadata": {
    "collapsed": false
   },
   "outputs": [
    {
     "data": {
      "text/html": [
       "<div>\n",
       "<table border=\"1\" class=\"dataframe\">\n",
       "  <thead>\n",
       "    <tr style=\"text-align: right;\">\n",
       "      <th></th>\n",
       "      <th>Full Name</th>\n",
       "      <th>Source Rank</th>\n",
       "      <th>PS/60 Rank</th>\n",
       "      <th>Absolute Difference</th>\n",
       "    </tr>\n",
       "  </thead>\n",
       "  <tbody>\n",
       "    <tr>\n",
       "      <th>0</th>\n",
       "      <td>Ryan Nugent-Hopkins</td>\n",
       "      <td>1</td>\n",
       "      <td>15</td>\n",
       "      <td>14</td>\n",
       "    </tr>\n",
       "    <tr>\n",
       "      <th>1</th>\n",
       "      <td>Jonathan Huberdeau</td>\n",
       "      <td>2</td>\n",
       "      <td>12</td>\n",
       "      <td>10</td>\n",
       "    </tr>\n",
       "    <tr>\n",
       "      <th>2</th>\n",
       "      <td>Gabriel Landeskog</td>\n",
       "      <td>3</td>\n",
       "      <td>8</td>\n",
       "      <td>5</td>\n",
       "    </tr>\n",
       "    <tr>\n",
       "      <th>3</th>\n",
       "      <td>Ryan Murphy</td>\n",
       "      <td>4</td>\n",
       "      <td>36</td>\n",
       "      <td>32</td>\n",
       "    </tr>\n",
       "    <tr>\n",
       "      <th>4</th>\n",
       "      <td>Mika Zibanejad</td>\n",
       "      <td>5</td>\n",
       "      <td>18</td>\n",
       "      <td>13</td>\n",
       "    </tr>\n",
       "  </tbody>\n",
       "</table>\n",
       "</div>"
      ],
      "text/plain": [
       "             Full Name  Source Rank  PS/60 Rank  Absolute Difference\n",
       "0  Ryan Nugent-Hopkins            1          15                   14\n",
       "1   Jonathan Huberdeau            2          12                   10\n",
       "2    Gabriel Landeskog            3           8                    5\n",
       "3          Ryan Murphy            4          36                   32\n",
       "4       Mika Zibanejad            5          18                   13"
      ]
     },
     "execution_count": 401,
     "metadata": {},
     "output_type": "execute_result"
    }
   ],
   "source": [
    "abs_diff_button_2011 = abs_diff('button/button 2011.csv', 'ps/ps 2011.csv')\n",
    "abs_diff_button_2011.head()"
   ]
  },
  {
   "cell_type": "code",
   "execution_count": 402,
   "metadata": {
    "collapsed": false
   },
   "outputs": [
    {
     "data": {
      "text/plain": [
       "721"
      ]
     },
     "execution_count": 402,
     "metadata": {},
     "output_type": "execute_result"
    }
   ],
   "source": [
    "abs_diff_button_2011['Absolute Difference'].sum()"
   ]
  },
  {
   "cell_type": "markdown",
   "metadata": {},
   "source": [
    "### Button 2012"
   ]
  },
  {
   "cell_type": "code",
   "execution_count": 403,
   "metadata": {
    "collapsed": false
   },
   "outputs": [
    {
     "data": {
      "text/html": [
       "<div>\n",
       "<table border=\"1\" class=\"dataframe\">\n",
       "  <thead>\n",
       "    <tr style=\"text-align: right;\">\n",
       "      <th></th>\n",
       "      <th>Full Name</th>\n",
       "      <th>Source Rank</th>\n",
       "      <th>PS/60 Rank</th>\n",
       "      <th>Absolute Difference</th>\n",
       "    </tr>\n",
       "  </thead>\n",
       "  <tbody>\n",
       "    <tr>\n",
       "      <th>0</th>\n",
       "      <td>Nail Yakupov</td>\n",
       "      <td>1</td>\n",
       "      <td>30</td>\n",
       "      <td>29</td>\n",
       "    </tr>\n",
       "    <tr>\n",
       "      <th>1</th>\n",
       "      <td>Matt Dumba</td>\n",
       "      <td>2</td>\n",
       "      <td>9</td>\n",
       "      <td>7</td>\n",
       "    </tr>\n",
       "    <tr>\n",
       "      <th>2</th>\n",
       "      <td>Morgan Rielly</td>\n",
       "      <td>3</td>\n",
       "      <td>25</td>\n",
       "      <td>22</td>\n",
       "    </tr>\n",
       "    <tr>\n",
       "      <th>3</th>\n",
       "      <td>Alex Galchenyuk</td>\n",
       "      <td>4</td>\n",
       "      <td>6</td>\n",
       "      <td>2</td>\n",
       "    </tr>\n",
       "    <tr>\n",
       "      <th>4</th>\n",
       "      <td>Teuvo Teravainen</td>\n",
       "      <td>5</td>\n",
       "      <td>28</td>\n",
       "      <td>23</td>\n",
       "    </tr>\n",
       "  </tbody>\n",
       "</table>\n",
       "</div>"
      ],
      "text/plain": [
       "          Full Name  Source Rank  PS/60 Rank  Absolute Difference\n",
       "0      Nail Yakupov            1          30                   29\n",
       "1        Matt Dumba            2           9                    7\n",
       "2     Morgan Rielly            3          25                   22\n",
       "3   Alex Galchenyuk            4           6                    2\n",
       "4  Teuvo Teravainen            5          28                   23"
      ]
     },
     "execution_count": 403,
     "metadata": {},
     "output_type": "execute_result"
    }
   ],
   "source": [
    "abs_diff_button_2012 = abs_diff('button/button 2012.csv', 'ps/ps 2012.csv')\n",
    "abs_diff_button_2012.head()"
   ]
  },
  {
   "cell_type": "code",
   "execution_count": 404,
   "metadata": {
    "collapsed": false
   },
   "outputs": [
    {
     "data": {
      "text/plain": [
       "656"
      ]
     },
     "execution_count": 404,
     "metadata": {},
     "output_type": "execute_result"
    }
   ],
   "source": [
    "abs_diff_button_2012['Absolute Difference'].sum()"
   ]
  },
  {
   "cell_type": "markdown",
   "metadata": {},
   "source": [
    "### Button 2013"
   ]
  },
  {
   "cell_type": "code",
   "execution_count": 405,
   "metadata": {
    "collapsed": false
   },
   "outputs": [
    {
     "data": {
      "text/html": [
       "<div>\n",
       "<table border=\"1\" class=\"dataframe\">\n",
       "  <thead>\n",
       "    <tr style=\"text-align: right;\">\n",
       "      <th></th>\n",
       "      <th>Full Name</th>\n",
       "      <th>Source Rank</th>\n",
       "      <th>PS/60 Rank</th>\n",
       "      <th>Absolute Difference</th>\n",
       "    </tr>\n",
       "  </thead>\n",
       "  <tbody>\n",
       "    <tr>\n",
       "      <th>0</th>\n",
       "      <td>Seth Jones</td>\n",
       "      <td>1</td>\n",
       "      <td>19</td>\n",
       "      <td>18</td>\n",
       "    </tr>\n",
       "    <tr>\n",
       "      <th>1</th>\n",
       "      <td>Jonathan Drouin</td>\n",
       "      <td>2</td>\n",
       "      <td>15</td>\n",
       "      <td>13</td>\n",
       "    </tr>\n",
       "    <tr>\n",
       "      <th>2</th>\n",
       "      <td>Nathan MacKinnon</td>\n",
       "      <td>3</td>\n",
       "      <td>6</td>\n",
       "      <td>3</td>\n",
       "    </tr>\n",
       "    <tr>\n",
       "      <th>3</th>\n",
       "      <td>Aleksander Barkov</td>\n",
       "      <td>4</td>\n",
       "      <td>12</td>\n",
       "      <td>8</td>\n",
       "    </tr>\n",
       "    <tr>\n",
       "      <th>4</th>\n",
       "      <td>Valeri Nichushkin</td>\n",
       "      <td>5</td>\n",
       "      <td>20</td>\n",
       "      <td>15</td>\n",
       "    </tr>\n",
       "  </tbody>\n",
       "</table>\n",
       "</div>"
      ],
      "text/plain": [
       "           Full Name  Source Rank  PS/60 Rank  Absolute Difference\n",
       "0         Seth Jones            1          19                   18\n",
       "1    Jonathan Drouin            2          15                   13\n",
       "2   Nathan MacKinnon            3           6                    3\n",
       "3  Aleksander Barkov            4          12                    8\n",
       "4  Valeri Nichushkin            5          20                   15"
      ]
     },
     "execution_count": 405,
     "metadata": {},
     "output_type": "execute_result"
    }
   ],
   "source": [
    "abs_diff_button_2013 = abs_diff('button/button 2013.csv', 'ps/ps 2013.csv')\n",
    "abs_diff_button_2013.head()"
   ]
  },
  {
   "cell_type": "code",
   "execution_count": 406,
   "metadata": {
    "collapsed": false
   },
   "outputs": [
    {
     "data": {
      "text/plain": [
       "389"
      ]
     },
     "execution_count": 406,
     "metadata": {},
     "output_type": "execute_result"
    }
   ],
   "source": [
    "abs_diff_button_2013['Absolute Difference'].sum()"
   ]
  },
  {
   "cell_type": "markdown",
   "metadata": {},
   "source": [
    "### Button Average Total Absolute Difference"
   ]
  },
  {
   "cell_type": "code",
   "execution_count": 407,
   "metadata": {
    "collapsed": false
   },
   "outputs": [
    {
     "data": {
      "text/plain": [
       "588"
      ]
     },
     "execution_count": 407,
     "metadata": {},
     "output_type": "execute_result"
    }
   ],
   "source": [
    "total_button = abs_diff_button_2011['Absolute Difference'].sum() + \\\n",
    "               abs_diff_button_2012['Absolute Difference'].sum() + \\\n",
    "               abs_diff_button_2013['Absolute Difference'].sum()\n",
    "total_button / 3"
   ]
  },
  {
   "cell_type": "markdown",
   "metadata": {
    "collapsed": true
   },
   "source": [
    "## McKenzie"
   ]
  },
  {
   "cell_type": "markdown",
   "metadata": {},
   "source": [
    "### McKenzie 2010"
   ]
  },
  {
   "cell_type": "code",
   "execution_count": 408,
   "metadata": {
    "collapsed": false
   },
   "outputs": [
    {
     "data": {
      "text/html": [
       "<div>\n",
       "<table border=\"1\" class=\"dataframe\">\n",
       "  <thead>\n",
       "    <tr style=\"text-align: right;\">\n",
       "      <th></th>\n",
       "      <th>Full Name</th>\n",
       "      <th>Source Rank</th>\n",
       "      <th>PS/60 Rank</th>\n",
       "      <th>Absolute Difference</th>\n",
       "    </tr>\n",
       "  </thead>\n",
       "  <tbody>\n",
       "    <tr>\n",
       "      <th>0</th>\n",
       "      <td>Taylor Hall</td>\n",
       "      <td>1</td>\n",
       "      <td>6</td>\n",
       "      <td>5</td>\n",
       "    </tr>\n",
       "    <tr>\n",
       "      <th>1</th>\n",
       "      <td>Tyler Seguin</td>\n",
       "      <td>2</td>\n",
       "      <td>2</td>\n",
       "      <td>0</td>\n",
       "    </tr>\n",
       "    <tr>\n",
       "      <th>2</th>\n",
       "      <td>Erik Gudbranson</td>\n",
       "      <td>3</td>\n",
       "      <td>60</td>\n",
       "      <td>57</td>\n",
       "    </tr>\n",
       "    <tr>\n",
       "      <th>3</th>\n",
       "      <td>Brandon Gormley</td>\n",
       "      <td>4</td>\n",
       "      <td>56</td>\n",
       "      <td>52</td>\n",
       "    </tr>\n",
       "    <tr>\n",
       "      <th>4</th>\n",
       "      <td>Cam Fowler</td>\n",
       "      <td>5</td>\n",
       "      <td>30</td>\n",
       "      <td>25</td>\n",
       "    </tr>\n",
       "  </tbody>\n",
       "</table>\n",
       "</div>"
      ],
      "text/plain": [
       "         Full Name  Source Rank  PS/60 Rank  Absolute Difference\n",
       "0      Taylor Hall            1           6                    5\n",
       "1     Tyler Seguin            2           2                    0\n",
       "2  Erik Gudbranson            3          60                   57\n",
       "3  Brandon Gormley            4          56                   52\n",
       "4       Cam Fowler            5          30                   25"
      ]
     },
     "execution_count": 408,
     "metadata": {},
     "output_type": "execute_result"
    }
   ],
   "source": [
    "abs_diff_mckenzie_2010 = abs_diff('mckenzie/mckenzie 2010.csv', 'ps/ps 2010.csv')\n",
    "abs_diff_mckenzie_2010.head()"
   ]
  },
  {
   "cell_type": "code",
   "execution_count": 409,
   "metadata": {
    "collapsed": false
   },
   "outputs": [
    {
     "data": {
      "text/plain": [
       "861"
      ]
     },
     "execution_count": 409,
     "metadata": {},
     "output_type": "execute_result"
    }
   ],
   "source": [
    "abs_diff_mckenzie_2010['Absolute Difference'].sum()"
   ]
  },
  {
   "cell_type": "markdown",
   "metadata": {},
   "source": [
    "### McKenzie 2011"
   ]
  },
  {
   "cell_type": "code",
   "execution_count": 410,
   "metadata": {
    "collapsed": false
   },
   "outputs": [
    {
     "data": {
      "text/html": [
       "<div>\n",
       "<table border=\"1\" class=\"dataframe\">\n",
       "  <thead>\n",
       "    <tr style=\"text-align: right;\">\n",
       "      <th></th>\n",
       "      <th>Full Name</th>\n",
       "      <th>Source Rank</th>\n",
       "      <th>PS/60 Rank</th>\n",
       "      <th>Absolute Difference</th>\n",
       "    </tr>\n",
       "  </thead>\n",
       "  <tbody>\n",
       "    <tr>\n",
       "      <th>0</th>\n",
       "      <td>Ryan Nugent-Hopkins</td>\n",
       "      <td>1</td>\n",
       "      <td>15</td>\n",
       "      <td>14</td>\n",
       "    </tr>\n",
       "    <tr>\n",
       "      <th>1</th>\n",
       "      <td>Adam Larsson</td>\n",
       "      <td>2</td>\n",
       "      <td>20</td>\n",
       "      <td>18</td>\n",
       "    </tr>\n",
       "    <tr>\n",
       "      <th>2</th>\n",
       "      <td>Jonathan Huberdeau</td>\n",
       "      <td>3</td>\n",
       "      <td>12</td>\n",
       "      <td>9</td>\n",
       "    </tr>\n",
       "    <tr>\n",
       "      <th>3</th>\n",
       "      <td>Gabriel Landeskog</td>\n",
       "      <td>4</td>\n",
       "      <td>8</td>\n",
       "      <td>4</td>\n",
       "    </tr>\n",
       "    <tr>\n",
       "      <th>4</th>\n",
       "      <td>Sean Couturier</td>\n",
       "      <td>5</td>\n",
       "      <td>40</td>\n",
       "      <td>35</td>\n",
       "    </tr>\n",
       "  </tbody>\n",
       "</table>\n",
       "</div>"
      ],
      "text/plain": [
       "             Full Name  Source Rank  PS/60 Rank  Absolute Difference\n",
       "0  Ryan Nugent-Hopkins            1          15                   14\n",
       "1         Adam Larsson            2          20                   18\n",
       "2   Jonathan Huberdeau            3          12                    9\n",
       "3    Gabriel Landeskog            4           8                    4\n",
       "4       Sean Couturier            5          40                   35"
      ]
     },
     "execution_count": 410,
     "metadata": {},
     "output_type": "execute_result"
    }
   ],
   "source": [
    "abs_diff_mckenzie_2011 = abs_diff('mckenzie/mckenzie 2011.csv', 'ps/ps 2011.csv')\n",
    "abs_diff_mckenzie_2011.head()"
   ]
  },
  {
   "cell_type": "code",
   "execution_count": 411,
   "metadata": {
    "collapsed": false
   },
   "outputs": [
    {
     "data": {
      "text/plain": [
       "783"
      ]
     },
     "execution_count": 411,
     "metadata": {},
     "output_type": "execute_result"
    }
   ],
   "source": [
    "abs_diff_mckenzie_2011['Absolute Difference'].sum()"
   ]
  },
  {
   "cell_type": "markdown",
   "metadata": {},
   "source": [
    "### McKenzie 2012"
   ]
  },
  {
   "cell_type": "code",
   "execution_count": 412,
   "metadata": {
    "collapsed": false
   },
   "outputs": [
    {
     "data": {
      "text/html": [
       "<div>\n",
       "<table border=\"1\" class=\"dataframe\">\n",
       "  <thead>\n",
       "    <tr style=\"text-align: right;\">\n",
       "      <th></th>\n",
       "      <th>Full Name</th>\n",
       "      <th>Source Rank</th>\n",
       "      <th>PS/60 Rank</th>\n",
       "      <th>Absolute Difference</th>\n",
       "    </tr>\n",
       "  </thead>\n",
       "  <tbody>\n",
       "    <tr>\n",
       "      <th>0</th>\n",
       "      <td>Nail Yakupov</td>\n",
       "      <td>1</td>\n",
       "      <td>30</td>\n",
       "      <td>29</td>\n",
       "    </tr>\n",
       "    <tr>\n",
       "      <th>1</th>\n",
       "      <td>Ryan Murray</td>\n",
       "      <td>2</td>\n",
       "      <td>27</td>\n",
       "      <td>25</td>\n",
       "    </tr>\n",
       "    <tr>\n",
       "      <th>2</th>\n",
       "      <td>Filip Forsberg</td>\n",
       "      <td>3</td>\n",
       "      <td>4</td>\n",
       "      <td>1</td>\n",
       "    </tr>\n",
       "    <tr>\n",
       "      <th>3</th>\n",
       "      <td>Griffin Reinhart</td>\n",
       "      <td>4</td>\n",
       "      <td>50</td>\n",
       "      <td>46</td>\n",
       "    </tr>\n",
       "    <tr>\n",
       "      <th>4</th>\n",
       "      <td>Alex Galchenyuk</td>\n",
       "      <td>5</td>\n",
       "      <td>6</td>\n",
       "      <td>1</td>\n",
       "    </tr>\n",
       "  </tbody>\n",
       "</table>\n",
       "</div>"
      ],
      "text/plain": [
       "          Full Name  Source Rank  PS/60 Rank  Absolute Difference\n",
       "0      Nail Yakupov            1          30                   29\n",
       "1       Ryan Murray            2          27                   25\n",
       "2    Filip Forsberg            3           4                    1\n",
       "3  Griffin Reinhart            4          50                   46\n",
       "4   Alex Galchenyuk            5           6                    1"
      ]
     },
     "execution_count": 412,
     "metadata": {},
     "output_type": "execute_result"
    }
   ],
   "source": [
    "abs_diff_mckenzie_2012 = abs_diff('mckenzie/mckenzie 2012.csv', 'ps/ps 2012.csv')\n",
    "abs_diff_mckenzie_2012.head()"
   ]
  },
  {
   "cell_type": "code",
   "execution_count": 413,
   "metadata": {
    "collapsed": false
   },
   "outputs": [
    {
     "data": {
      "text/plain": [
       "604"
      ]
     },
     "execution_count": 413,
     "metadata": {},
     "output_type": "execute_result"
    }
   ],
   "source": [
    "abs_diff_mckenzie_2012['Absolute Difference'].sum()"
   ]
  },
  {
   "cell_type": "markdown",
   "metadata": {},
   "source": [
    "### McKenzie 2013"
   ]
  },
  {
   "cell_type": "code",
   "execution_count": 414,
   "metadata": {
    "collapsed": false
   },
   "outputs": [
    {
     "data": {
      "text/html": [
       "<div>\n",
       "<table border=\"1\" class=\"dataframe\">\n",
       "  <thead>\n",
       "    <tr style=\"text-align: right;\">\n",
       "      <th></th>\n",
       "      <th>Full Name</th>\n",
       "      <th>Source Rank</th>\n",
       "      <th>PS/60 Rank</th>\n",
       "      <th>Absolute Difference</th>\n",
       "    </tr>\n",
       "  </thead>\n",
       "  <tbody>\n",
       "    <tr>\n",
       "      <th>0</th>\n",
       "      <td>Nathan MacKinnon</td>\n",
       "      <td>1</td>\n",
       "      <td>6</td>\n",
       "      <td>5</td>\n",
       "    </tr>\n",
       "    <tr>\n",
       "      <th>1</th>\n",
       "      <td>Seth Jones</td>\n",
       "      <td>2</td>\n",
       "      <td>19</td>\n",
       "      <td>17</td>\n",
       "    </tr>\n",
       "    <tr>\n",
       "      <th>2</th>\n",
       "      <td>Jonathan Drouin</td>\n",
       "      <td>3</td>\n",
       "      <td>15</td>\n",
       "      <td>12</td>\n",
       "    </tr>\n",
       "    <tr>\n",
       "      <th>3</th>\n",
       "      <td>Aleksander Barkov</td>\n",
       "      <td>4</td>\n",
       "      <td>12</td>\n",
       "      <td>8</td>\n",
       "    </tr>\n",
       "    <tr>\n",
       "      <th>4</th>\n",
       "      <td>Elias Lindholm</td>\n",
       "      <td>5</td>\n",
       "      <td>23</td>\n",
       "      <td>18</td>\n",
       "    </tr>\n",
       "  </tbody>\n",
       "</table>\n",
       "</div>"
      ],
      "text/plain": [
       "           Full Name  Source Rank  PS/60 Rank  Absolute Difference\n",
       "0   Nathan MacKinnon            1           6                    5\n",
       "1         Seth Jones            2          19                   17\n",
       "2    Jonathan Drouin            3          15                   12\n",
       "3  Aleksander Barkov            4          12                    8\n",
       "4     Elias Lindholm            5          23                   18"
      ]
     },
     "execution_count": 414,
     "metadata": {},
     "output_type": "execute_result"
    }
   ],
   "source": [
    "abs_diff_mckenzie_2013 = abs_diff('mckenzie/mckenzie 2013.csv', 'ps/ps 2013.csv')\n",
    "abs_diff_mckenzie_2013.head()"
   ]
  },
  {
   "cell_type": "code",
   "execution_count": 415,
   "metadata": {
    "collapsed": false
   },
   "outputs": [
    {
     "data": {
      "text/plain": [
       "359"
      ]
     },
     "execution_count": 415,
     "metadata": {},
     "output_type": "execute_result"
    }
   ],
   "source": [
    "abs_diff_mckenzie_2013['Absolute Difference'].sum()"
   ]
  },
  {
   "cell_type": "markdown",
   "metadata": {},
   "source": [
    "### McKenzie Average Total Absolute Difference"
   ]
  },
  {
   "cell_type": "code",
   "execution_count": 416,
   "metadata": {
    "collapsed": false
   },
   "outputs": [
    {
     "data": {
      "text/plain": [
       "651"
      ]
     },
     "execution_count": 416,
     "metadata": {},
     "output_type": "execute_result"
    }
   ],
   "source": [
    "total_mckenzie = abs_diff_mckenzie_2010['Absolute Difference'].sum() + \\\n",
    "                 abs_diff_mckenzie_2011['Absolute Difference'].sum() + \\\n",
    "                 abs_diff_mckenzie_2012['Absolute Difference'].sum() + \\\n",
    "                 abs_diff_mckenzie_2013['Absolute Difference'].sum()\n",
    "total_mckenzie / 4"
   ]
  },
  {
   "cell_type": "markdown",
   "metadata": {},
   "source": [
    "## ISS"
   ]
  },
  {
   "cell_type": "markdown",
   "metadata": {},
   "source": [
    "### ISS 2010"
   ]
  },
  {
   "cell_type": "code",
   "execution_count": 417,
   "metadata": {
    "collapsed": false
   },
   "outputs": [
    {
     "data": {
      "text/html": [
       "<div>\n",
       "<table border=\"1\" class=\"dataframe\">\n",
       "  <thead>\n",
       "    <tr style=\"text-align: right;\">\n",
       "      <th></th>\n",
       "      <th>Full Name</th>\n",
       "      <th>Source Rank</th>\n",
       "      <th>PS/60 Rank</th>\n",
       "      <th>Absolute Difference</th>\n",
       "    </tr>\n",
       "  </thead>\n",
       "  <tbody>\n",
       "    <tr>\n",
       "      <th>0</th>\n",
       "      <td>Taylor Hall</td>\n",
       "      <td>1</td>\n",
       "      <td>6</td>\n",
       "      <td>5</td>\n",
       "    </tr>\n",
       "    <tr>\n",
       "      <th>1</th>\n",
       "      <td>Tyler Seguin</td>\n",
       "      <td>2</td>\n",
       "      <td>2</td>\n",
       "      <td>0</td>\n",
       "    </tr>\n",
       "    <tr>\n",
       "      <th>2</th>\n",
       "      <td>Brandon Gormley</td>\n",
       "      <td>3</td>\n",
       "      <td>56</td>\n",
       "      <td>53</td>\n",
       "    </tr>\n",
       "    <tr>\n",
       "      <th>3</th>\n",
       "      <td>Vladimir Tarasenko</td>\n",
       "      <td>4</td>\n",
       "      <td>1</td>\n",
       "      <td>3</td>\n",
       "    </tr>\n",
       "    <tr>\n",
       "      <th>4</th>\n",
       "      <td>Cam Fowler</td>\n",
       "      <td>5</td>\n",
       "      <td>30</td>\n",
       "      <td>25</td>\n",
       "    </tr>\n",
       "  </tbody>\n",
       "</table>\n",
       "</div>"
      ],
      "text/plain": [
       "            Full Name  Source Rank  PS/60 Rank  Absolute Difference\n",
       "0         Taylor Hall            1           6                    5\n",
       "1        Tyler Seguin            2           2                    0\n",
       "2     Brandon Gormley            3          56                   53\n",
       "3  Vladimir Tarasenko            4           1                    3\n",
       "4          Cam Fowler            5          30                   25"
      ]
     },
     "execution_count": 417,
     "metadata": {},
     "output_type": "execute_result"
    }
   ],
   "source": [
    "abs_diff_iss_2010 = abs_diff('iss/iss 2010.csv', 'ps/ps 2010.csv')\n",
    "abs_diff_iss_2010.head()"
   ]
  },
  {
   "cell_type": "code",
   "execution_count": 418,
   "metadata": {
    "collapsed": false
   },
   "outputs": [
    {
     "data": {
      "text/plain": [
       "780"
      ]
     },
     "execution_count": 418,
     "metadata": {},
     "output_type": "execute_result"
    }
   ],
   "source": [
    "abs_diff_iss_2010['Absolute Difference'].sum()"
   ]
  },
  {
   "cell_type": "markdown",
   "metadata": {},
   "source": [
    "### ISS 2011"
   ]
  },
  {
   "cell_type": "code",
   "execution_count": 419,
   "metadata": {
    "collapsed": false
   },
   "outputs": [
    {
     "data": {
      "text/html": [
       "<div>\n",
       "<table border=\"1\" class=\"dataframe\">\n",
       "  <thead>\n",
       "    <tr style=\"text-align: right;\">\n",
       "      <th></th>\n",
       "      <th>Full Name</th>\n",
       "      <th>Source Rank</th>\n",
       "      <th>PS/60 Rank</th>\n",
       "      <th>Absolute Difference</th>\n",
       "    </tr>\n",
       "  </thead>\n",
       "  <tbody>\n",
       "    <tr>\n",
       "      <th>0</th>\n",
       "      <td>Ryan Nugent-Hopkins</td>\n",
       "      <td>1</td>\n",
       "      <td>15</td>\n",
       "      <td>14</td>\n",
       "    </tr>\n",
       "    <tr>\n",
       "      <th>1</th>\n",
       "      <td>Adam Larsson</td>\n",
       "      <td>2</td>\n",
       "      <td>20</td>\n",
       "      <td>18</td>\n",
       "    </tr>\n",
       "    <tr>\n",
       "      <th>2</th>\n",
       "      <td>Jonathan Huberdeau</td>\n",
       "      <td>3</td>\n",
       "      <td>12</td>\n",
       "      <td>9</td>\n",
       "    </tr>\n",
       "    <tr>\n",
       "      <th>3</th>\n",
       "      <td>Sean Couturier</td>\n",
       "      <td>4</td>\n",
       "      <td>40</td>\n",
       "      <td>36</td>\n",
       "    </tr>\n",
       "    <tr>\n",
       "      <th>4</th>\n",
       "      <td>Gabriel Landeskog</td>\n",
       "      <td>5</td>\n",
       "      <td>8</td>\n",
       "      <td>3</td>\n",
       "    </tr>\n",
       "  </tbody>\n",
       "</table>\n",
       "</div>"
      ],
      "text/plain": [
       "             Full Name  Source Rank  PS/60 Rank  Absolute Difference\n",
       "0  Ryan Nugent-Hopkins            1          15                   14\n",
       "1         Adam Larsson            2          20                   18\n",
       "2   Jonathan Huberdeau            3          12                    9\n",
       "3       Sean Couturier            4          40                   36\n",
       "4    Gabriel Landeskog            5           8                    3"
      ]
     },
     "execution_count": 419,
     "metadata": {},
     "output_type": "execute_result"
    }
   ],
   "source": [
    "abs_diff_iss_2011 = abs_diff('iss/iss 2011.csv', 'ps/ps 2011.csv')\n",
    "abs_diff_iss_2011.head()"
   ]
  },
  {
   "cell_type": "code",
   "execution_count": 420,
   "metadata": {
    "collapsed": false
   },
   "outputs": [
    {
     "data": {
      "text/plain": [
       "806"
      ]
     },
     "execution_count": 420,
     "metadata": {},
     "output_type": "execute_result"
    }
   ],
   "source": [
    "abs_diff_iss_2011['Absolute Difference'].sum()"
   ]
  },
  {
   "cell_type": "markdown",
   "metadata": {},
   "source": [
    "### ISS 2012"
   ]
  },
  {
   "cell_type": "code",
   "execution_count": 421,
   "metadata": {
    "collapsed": false
   },
   "outputs": [
    {
     "data": {
      "text/html": [
       "<div>\n",
       "<table border=\"1\" class=\"dataframe\">\n",
       "  <thead>\n",
       "    <tr style=\"text-align: right;\">\n",
       "      <th></th>\n",
       "      <th>Full Name</th>\n",
       "      <th>Source Rank</th>\n",
       "      <th>PS/60 Rank</th>\n",
       "      <th>Absolute Difference</th>\n",
       "    </tr>\n",
       "  </thead>\n",
       "  <tbody>\n",
       "    <tr>\n",
       "      <th>0</th>\n",
       "      <td>Nail Yakupov</td>\n",
       "      <td>1</td>\n",
       "      <td>30</td>\n",
       "      <td>29</td>\n",
       "    </tr>\n",
       "    <tr>\n",
       "      <th>1</th>\n",
       "      <td>Filip Forsberg</td>\n",
       "      <td>2</td>\n",
       "      <td>4</td>\n",
       "      <td>2</td>\n",
       "    </tr>\n",
       "    <tr>\n",
       "      <th>2</th>\n",
       "      <td>Ryan Murray</td>\n",
       "      <td>3</td>\n",
       "      <td>27</td>\n",
       "      <td>24</td>\n",
       "    </tr>\n",
       "    <tr>\n",
       "      <th>3</th>\n",
       "      <td>Mikhail Grigorenko</td>\n",
       "      <td>4</td>\n",
       "      <td>42</td>\n",
       "      <td>38</td>\n",
       "    </tr>\n",
       "    <tr>\n",
       "      <th>4</th>\n",
       "      <td>Jacob Trouba</td>\n",
       "      <td>5</td>\n",
       "      <td>18</td>\n",
       "      <td>13</td>\n",
       "    </tr>\n",
       "  </tbody>\n",
       "</table>\n",
       "</div>"
      ],
      "text/plain": [
       "            Full Name  Source Rank  PS/60 Rank  Absolute Difference\n",
       "0        Nail Yakupov            1          30                   29\n",
       "1      Filip Forsberg            2           4                    2\n",
       "2         Ryan Murray            3          27                   24\n",
       "3  Mikhail Grigorenko            4          42                   38\n",
       "4        Jacob Trouba            5          18                   13"
      ]
     },
     "execution_count": 421,
     "metadata": {},
     "output_type": "execute_result"
    }
   ],
   "source": [
    "abs_diff_iss_2012 = abs_diff('iss/iss 2012.csv', 'ps/ps 2012.csv')\n",
    "abs_diff_iss_2012.head()"
   ]
  },
  {
   "cell_type": "code",
   "execution_count": 422,
   "metadata": {
    "collapsed": false
   },
   "outputs": [
    {
     "data": {
      "text/plain": [
       "673"
      ]
     },
     "execution_count": 422,
     "metadata": {},
     "output_type": "execute_result"
    }
   ],
   "source": [
    "abs_diff_iss_2012['Absolute Difference'].sum()"
   ]
  },
  {
   "cell_type": "markdown",
   "metadata": {},
   "source": [
    "### ISS 2013"
   ]
  },
  {
   "cell_type": "code",
   "execution_count": 423,
   "metadata": {
    "collapsed": false
   },
   "outputs": [
    {
     "data": {
      "text/html": [
       "<div>\n",
       "<table border=\"1\" class=\"dataframe\">\n",
       "  <thead>\n",
       "    <tr style=\"text-align: right;\">\n",
       "      <th></th>\n",
       "      <th>Full Name</th>\n",
       "      <th>Source Rank</th>\n",
       "      <th>PS/60 Rank</th>\n",
       "      <th>Absolute Difference</th>\n",
       "    </tr>\n",
       "  </thead>\n",
       "  <tbody>\n",
       "    <tr>\n",
       "      <th>0</th>\n",
       "      <td>Nathan MacKinnon</td>\n",
       "      <td>1</td>\n",
       "      <td>6</td>\n",
       "      <td>5</td>\n",
       "    </tr>\n",
       "    <tr>\n",
       "      <th>1</th>\n",
       "      <td>Seth Jones</td>\n",
       "      <td>2</td>\n",
       "      <td>19</td>\n",
       "      <td>17</td>\n",
       "    </tr>\n",
       "    <tr>\n",
       "      <th>2</th>\n",
       "      <td>Jonathan Drouin</td>\n",
       "      <td>3</td>\n",
       "      <td>15</td>\n",
       "      <td>12</td>\n",
       "    </tr>\n",
       "    <tr>\n",
       "      <th>3</th>\n",
       "      <td>Valeri Nichushkin</td>\n",
       "      <td>4</td>\n",
       "      <td>20</td>\n",
       "      <td>16</td>\n",
       "    </tr>\n",
       "    <tr>\n",
       "      <th>4</th>\n",
       "      <td>Aleksander Barkov</td>\n",
       "      <td>5</td>\n",
       "      <td>12</td>\n",
       "      <td>7</td>\n",
       "    </tr>\n",
       "  </tbody>\n",
       "</table>\n",
       "</div>"
      ],
      "text/plain": [
       "           Full Name  Source Rank  PS/60 Rank  Absolute Difference\n",
       "0   Nathan MacKinnon            1           6                    5\n",
       "1         Seth Jones            2          19                   17\n",
       "2    Jonathan Drouin            3          15                   12\n",
       "3  Valeri Nichushkin            4          20                   16\n",
       "4  Aleksander Barkov            5          12                    7"
      ]
     },
     "execution_count": 423,
     "metadata": {},
     "output_type": "execute_result"
    }
   ],
   "source": [
    "abs_diff_iss_2013 = abs_diff('iss/iss 2013.csv', 'ps/ps 2013.csv')\n",
    "abs_diff_iss_2013.head()"
   ]
  },
  {
   "cell_type": "code",
   "execution_count": 424,
   "metadata": {
    "collapsed": false
   },
   "outputs": [
    {
     "data": {
      "text/plain": [
       "345"
      ]
     },
     "execution_count": 424,
     "metadata": {},
     "output_type": "execute_result"
    }
   ],
   "source": [
    "abs_diff_iss_2013['Absolute Difference'].sum()"
   ]
  },
  {
   "cell_type": "markdown",
   "metadata": {},
   "source": [
    "### ISS Average Total Absolute Difference"
   ]
  },
  {
   "cell_type": "code",
   "execution_count": 425,
   "metadata": {
    "collapsed": false
   },
   "outputs": [
    {
     "data": {
      "text/plain": [
       "651"
      ]
     },
     "execution_count": 425,
     "metadata": {},
     "output_type": "execute_result"
    }
   ],
   "source": [
    "total_iss = abs_diff_iss_2010['Absolute Difference'].sum() + \\\n",
    "            abs_diff_iss_2011['Absolute Difference'].sum() + \\\n",
    "            abs_diff_iss_2012['Absolute Difference'].sum() + \\\n",
    "            abs_diff_iss_2013['Absolute Difference'].sum()\n",
    "total_iss / 4"
   ]
  }
 ],
 "metadata": {
  "kernelspec": {
   "display_name": "Python 2",
   "language": "python",
   "name": "python2"
  },
  "language_info": {
   "codemirror_mode": {
    "name": "ipython",
    "version": 2
   },
   "file_extension": ".py",
   "mimetype": "text/x-python",
   "name": "python",
   "nbconvert_exporter": "python",
   "pygments_lexer": "ipython2",
   "version": "2.7.11"
  }
 },
 "nbformat": 4,
 "nbformat_minor": 0
}
